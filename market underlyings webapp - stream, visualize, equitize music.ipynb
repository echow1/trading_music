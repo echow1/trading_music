{
 "cells": [
  {
   "cell_type": "markdown",
   "metadata": {},
   "source": [
    "# Webapp: set up data stream, visualize, and equitize\n",
    "\n",
    "- https://medium.com/plotly/introducing-jupyterdash-811f1f57c02e\n",
    "- https://dash.plotly.com/live-updates\n",
    "- https://pbpython.com/interactive-dashboards.html#id6\n",
    "- https://mybinder.org/ + https://github.com/echow1/trading_music\n",
    "- (maybe) https://www.freecodecamp.org/news/how-to-create-auto-updating-data-visualizations-in-python-with-matplotlib-and-aws/\n",
    "- https://kapernikov.com/ipywidgets-with-matplotlib/"
   ]
  },
  {
   "cell_type": "code",
   "execution_count": null,
   "metadata": {},
   "outputs": [],
   "source": [
    "from __future__ import division\n",
    "from more_itertools import peekable\n",
    "import numpy as np\n",
    "import pandas as pd\n",
    "import matplotlib.pyplot as plt\n",
    "import scipy as scp\n",
    "import magenta\n",
    "import os, time, re\n",
    "%matplotlib inline\n",
    "\n",
    "pd.set_option('display.max_rows', 500)\n",
    "pd.set_option('display.max_columns', 500)\n",
    "pd.set_option('display.width', 1000)\n",
    "\n",
    "PLOT_WIDTH = 1200\n",
    "PLOT_HEIGHT = 800\n",
    "\n",
    "def hheader(x):\n",
    "    print(\"#########################################\")\n",
    "    print(\"### {}\".format(x))\n",
    "    print(\"#########################################\")\n",
    "\n",
    "# Magenta dependencies:\n",
    "# https://github.com/magenta/magenta\n",
    "\n",
    "# Magenta uses pretty_midi to deal with midi files\n",
    "import pretty_midi"
   ]
  },
  {
   "cell_type": "markdown",
   "metadata": {},
   "source": [
    "### Setup: read in the music stream"
   ]
  },
  {
   "cell_type": "code",
   "execution_count": null,
   "metadata": {
    "scrolled": false
   },
   "outputs": [],
   "source": [
    "\"\"\" Set up music stream \"\"\"\n",
    "\n",
    "### for reading in chunks\n",
    "from collections import deque\n",
    "\n",
    "def csvStream(csvfile):\n",
    "    csv_stream = pd.read_csv(csvfile, index_col=0, iterator=True)\n",
    "    return(csv_stream)\n",
    "\n",
    "def nextChunk(csvStream, chunksize=5):\n",
    "    return(csvStream.get_chunk(chunksize))\n",
    "\n",
    "chunksQueue = []\n",
    "def nextChunkWithOverlap(musStream, cq=chunksQueue, chunksize=10, maxNumChunks=5):\n",
    "    nextChunk = (musStream.get_chunk(chunksize))\n",
    "    # make space\n",
    "    if len(cq) >= maxNumChunks:\n",
    "        cq.pop(0)\n",
    "    cq.append(nextChunk)\n",
    "    res = (pd.concat(cq))\n",
    "    return(res)\n",
    "\n",
    "# def hasNext(csvStream):\n",
    "    \n",
    "\n",
    "INPUT_PATH = \"data_processed/maestro/\"\n",
    "add_input_path = lambda x: \"{}/{}\".format(INPUT_PATH, x)\n",
    "MUSIC_STREAM_SUBSTR = \"maestro_full_music_stream\"\n",
    "\n",
    "music_files = []\n",
    "for root, dirs, files in os.walk(INPUT_PATH):\n",
    "    for file in files:\n",
    "        if MUSIC_STREAM_SUBSTR in file:\n",
    "            music_files.append(os.path.join(root, file))\n",
    "\n",
    "### pick first as the music stream\n",
    "music_files = sorted(music_files) # play in order\n",
    "print(\"Number of music streams found:\")\n",
    "print(len(music_files))\n",
    "print(music_files[:10])\n",
    "\n",
    "### should only 1 have file to stream\n",
    "if (len(music_files) > 1):\n",
    "    whichStream = int(input(\"Index (0 ... N-1) of stream to pick:\"))\n",
    "else:\n",
    "    whichStream = 0\n",
    "musicStream = csvStream(music_files[whichStream])"
   ]
  },
  {
   "cell_type": "markdown",
   "metadata": {},
   "source": [
    "### Task 0: Stream music audio and display as a webapp"
   ]
  },
  {
   "cell_type": "markdown",
   "metadata": {},
   "source": [
    "### Task 1: Stream MIDI and display as a webapp\n",
    "\n",
    "(do audio later after download)"
   ]
  },
  {
   "cell_type": "code",
   "execution_count": null,
   "metadata": {
    "scrolled": true
   },
   "outputs": [],
   "source": [
    "# import jp_proxy_widget\n",
    "# from scipy.io import wavfile\n",
    "\n",
    "\"\"\" Demo: auto-updating time series plot, use with voila and watch update \"\"\"\n",
    "\n",
    "import plotly.express as px\n",
    "from jupyter_dash import JupyterDash\n",
    "import dash_core_components as dcc\n",
    "import dash_html_components as html\n",
    "from dash.dependencies import Input, Output\n",
    "\n",
    "### Setup time series plot\n",
    "external_stylesheets = ['https://codepen.io/chriddyp/pen/bWLwgP.css']\n",
    "app = JupyterDash(__name__, external_stylesheets=external_stylesheets)\n",
    "app.layout = html.Div([\n",
    "    html.H1(\"JupyterDash Demo\"),\n",
    "    dcc.Graph(id='graph'),\n",
    "    html.Label([\n",
    "        \"colorscale\",\n",
    "        dcc.Dropdown(\n",
    "            id='colorscale-dropdown', clearable=False, value='plasma',\n",
    "            options=[{'label': c, 'value': c} for c in px.colors.named_colorscales()])\n",
    "    ]),\n",
    "    dcc.Interval(\n",
    "        id='interval-component',\n",
    "        interval=1*1000, # update every (this number of) milliseconds\n",
    "        n_intervals=0\n",
    "    )\n",
    "])\n",
    "\n",
    "### Update above graph\n",
    "# Define callback to update graph\n",
    "@app.callback(\n",
    "    Output('graph', 'figure'),\n",
    "    Input(\"colorscale-dropdown\", \"value\"),\n",
    "    Input(\"interval-component\", \"n_intervals\"))\n",
    "def update_figure(currBar, colorscale, n_intervals):\n",
    "    fig = px.scatter(\n",
    "        # like ggplot with color based on group\n",
    "        currBar, x=\"start_sec\", y=\"pitch_mean\", color=\"pitch_mean\",\n",
    "        color_continuous_scale=colorscale, render_mode=\"webgl\", template=\"plotly_dark\",\n",
    "        title=\"Mean pitch per sampled bar (streaming)\",range_y=[21, 108]).update_traces(mode='lines+markers')\n",
    "    return(fig)\n",
    "    \n",
    "while True:\n",
    "    currBar = nextChunkWithOverlap(musicStream)\n",
    "    if currBar is None:\n",
    "        print(\">> End of stream!\")\n",
    "        break\n",
    "\n",
    "    # Run app and display result inline in the notebook\n",
    "    app.run_server(mode='inline')"
   ]
  },
  {
   "cell_type": "code",
   "execution_count": null,
   "metadata": {},
   "outputs": [],
   "source": []
  },
  {
   "cell_type": "code",
   "execution_count": null,
   "metadata": {},
   "outputs": [],
   "source": []
  },
  {
   "cell_type": "code",
   "execution_count": null,
   "metadata": {},
   "outputs": [],
   "source": []
  },
  {
   "cell_type": "code",
   "execution_count": null,
   "metadata": {},
   "outputs": [],
   "source": []
  },
  {
   "cell_type": "code",
   "execution_count": null,
   "metadata": {},
   "outputs": [],
   "source": []
  },
  {
   "cell_type": "code",
   "execution_count": null,
   "metadata": {},
   "outputs": [],
   "source": [
    "raise Exception()"
   ]
  },
  {
   "cell_type": "markdown",
   "metadata": {},
   "source": [
    "### Task 2: Play music and visualize primitive information, construct financial equities, visualize"
   ]
  },
  {
   "cell_type": "code",
   "execution_count": null,
   "metadata": {},
   "outputs": [],
   "source": [
    "\"\"\" SPECTROGRAM\n",
    "    No machine learning required for this.\n",
    "\"\"\"\n",
    "\n",
    "#"
   ]
  },
  {
   "cell_type": "code",
   "execution_count": null,
   "metadata": {},
   "outputs": [],
   "source": [
    "\"\"\" NOTE DENSITY\n",
    "    No machine learning required for this.\n",
    "\"\"\"\n",
    "\n",
    "#"
   ]
  },
  {
   "cell_type": "markdown",
   "metadata": {},
   "source": [
    "### Task 3: Extract music features from MIDI in real-time, construct financial equities, visualize\n",
    "\n",
    "Sequential learning.\n",
    "- Validate (try out) against the streamed music audio and series.\n",
    "- These are the constructed underlyings for financial equities, upon which prediction/regression can work.\n",
    "\n",
    "Make a local API so other scripts can GET/POST requests (bid/ask) for this."
   ]
  },
  {
   "cell_type": "code",
   "execution_count": null,
   "metadata": {},
   "outputs": [],
   "source": [
    "\"\"\" TEMPO\n",
    "    Strategy: linear Gaussian state space model / Kalman filter.\n",
    "    Model tempo (latent variable zt) as a function of notes etc. (observed variables x1 ... xt)\n",
    "    https://www.researchgate.net/publication/224711190_A_Modified_Kalman_Filtering_Approach_to_On-Line_Musical_Beat_Tracking\n",
    "\"\"\"\n",
    "\n",
    "\n"
   ]
  },
  {
   "cell_type": "code",
   "execution_count": null,
   "metadata": {},
   "outputs": [],
   "source": [
    "\"\"\" HARMONY\n",
    "\"\"\"\n",
    "\n",
    "#"
   ]
  },
  {
   "cell_type": "code",
   "execution_count": null,
   "metadata": {},
   "outputs": [],
   "source": [
    "\"\"\" RHYTHM\n",
    "\"\"\"\n",
    "\n",
    "#"
   ]
  },
  {
   "cell_type": "code",
   "execution_count": null,
   "metadata": {},
   "outputs": [],
   "source": []
  }
 ],
 "metadata": {
  "kernelspec": {
   "display_name": "Python 3",
   "language": "python",
   "name": "python3"
  },
  "language_info": {
   "codemirror_mode": {
    "name": "ipython",
    "version": 3
   },
   "file_extension": ".py",
   "mimetype": "text/x-python",
   "name": "python",
   "nbconvert_exporter": "python",
   "pygments_lexer": "ipython3",
   "version": "3.7.9"
  }
 },
 "nbformat": 4,
 "nbformat_minor": 4
}
