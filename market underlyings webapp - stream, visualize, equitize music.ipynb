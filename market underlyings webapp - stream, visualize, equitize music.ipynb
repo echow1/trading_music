{
 "cells": [
  {
   "cell_type": "markdown",
   "metadata": {},
   "source": [
    "# Webapp: set up data stream, visualize, and equitize\n",
    "\n",
    "- https://medium.com/plotly/introducing-jupyterdash-811f1f57c02e\n",
    "- https://dash.plotly.com/live-updates\n",
    "- https://pbpython.com/interactive-dashboards.html#id6\n",
    "- https://mybinder.org/ + https://github.com/echow1/trading_music\n",
    "- (maybe) https://www.freecodecamp.org/news/how-to-create-auto-updating-data-visualizations-in-python-with-matplotlib-and-aws/\n",
    "- https://kapernikov.com/ipywidgets-with-matplotlib/"
   ]
  },
  {
   "cell_type": "code",
   "execution_count": 1,
   "metadata": {},
   "outputs": [
    {
     "name": "stderr",
     "output_type": "stream",
     "text": [
      "C:\\Users\\echow\\Miniconda3\\envs\\tensorflow\\lib\\site-packages\\librosa\\util\\decorators.py:9: NumbaDeprecationWarning: \u001b[1mAn import was requested from a module that has moved location.\n",
      "Import requested from: 'numba.decorators', please update to use 'numba.core.decorators' or pin to Numba version 0.48.0. This alias will not be present in Numba version 0.50.0.\u001b[0m\n",
      "  from numba.decorators import jit as optional_jit\n",
      "C:\\Users\\echow\\Miniconda3\\envs\\tensorflow\\lib\\site-packages\\librosa\\util\\decorators.py:9: NumbaDeprecationWarning: \u001b[1mAn import was requested from a module that has moved location.\n",
      "Import of 'jit' requested from: 'numba.decorators', please update to use 'numba.core.decorators' or pin to Numba version 0.48.0. This alias will not be present in Numba version 0.50.0.\u001b[0m\n",
      "  from numba.decorators import jit as optional_jit\n",
      "C:\\Users\\echow\\Miniconda3\\envs\\tensorflow\\lib\\site-packages\\pydub\\utils.py:170: RuntimeWarning: Couldn't find ffmpeg or avconv - defaulting to ffmpeg, but may not work\n",
      "  warn(\"Couldn't find ffmpeg or avconv - defaulting to ffmpeg, but may not work\", RuntimeWarning)\n"
     ]
    }
   ],
   "source": [
    "from __future__ import division\n",
    "from more_itertools import peekable\n",
    "import numpy as np\n",
    "import pandas as pd\n",
    "import matplotlib.pyplot as plt\n",
    "import scipy as scp\n",
    "import magenta\n",
    "import os, time, re\n",
    "%matplotlib inline\n",
    "\n",
    "pd.set_option('display.max_rows', 500)\n",
    "pd.set_option('display.max_columns', 500)\n",
    "pd.set_option('display.width', 1000)\n",
    "\n",
    "PLOT_WIDTH = 1200\n",
    "PLOT_HEIGHT = 800\n",
    "\n",
    "def hheader(x):\n",
    "    print(\"#########################################\")\n",
    "    print(\"### {}\".format(x))\n",
    "    print(\"#########################################\")\n",
    "\n",
    "# Magenta dependencies:\n",
    "# https://github.com/magenta/magenta\n",
    "\n",
    "# Magenta uses pretty_midi to deal with midi files\n",
    "import pretty_midi"
   ]
  },
  {
   "cell_type": "markdown",
   "metadata": {},
   "source": [
    "### Setup: read in the music stream"
   ]
  },
  {
   "cell_type": "code",
   "execution_count": 2,
   "metadata": {
    "scrolled": false
   },
   "outputs": [
    {
     "name": "stdout",
     "output_type": "stream",
     "text": [
      "Number of music streams found:\n",
      "1\n",
      "['data_processed/maestro/maestro_full_music_stream.csv']\n"
     ]
    }
   ],
   "source": [
    "\"\"\" Set up music stream \"\"\"\n",
    "def csvStream(csvfile):\n",
    "    csv_stream = pd.read_csv(csvfile, index_col=0, iterator=True)\n",
    "    return(csv_stream)\n",
    "\n",
    "def nextChunk(csvStream, chunksize=5):\n",
    "    return(csvStream.get_chunk(chunksize))\n",
    "\n",
    "# def hasNext(csvStream):\n",
    "    \n",
    "\n",
    "INPUT_PATH = \"data_processed/maestro/\"\n",
    "add_input_path = lambda x: \"{}/{}\".format(INPUT_PATH, x)\n",
    "MUSIC_STREAM_SUBSTR = \"maestro_full_music_stream\"\n",
    "\n",
    "music_files = []\n",
    "for root, dirs, files in os.walk(INPUT_PATH):\n",
    "    for file in files:\n",
    "        if MUSIC_STREAM_SUBSTR in file:\n",
    "            music_files.append(os.path.join(root, file))\n",
    "\n",
    "### pick first as the music stream\n",
    "music_files = sorted(music_files) # play in order\n",
    "print(\"Number of music streams found:\")\n",
    "print(len(music_files))\n",
    "print(music_files[:10])\n",
    "\n",
    "### should only 1 have file to stream\n",
    "if (len(music_files) > 1):\n",
    "    whichStream = int(input(\"Index (0 ... N-1) of stream to pick:\"))\n",
    "else:\n",
    "    whichStream = 0\n",
    "musicStream = csvStream(music_files[whichStream])"
   ]
  },
  {
   "cell_type": "markdown",
   "metadata": {},
   "source": [
    "### Task 0: Stream music audio and display as a webapp"
   ]
  },
  {
   "cell_type": "markdown",
   "metadata": {},
   "source": [
    "### Task 1: Stream MIDI and display as a webapp\n",
    "\n",
    "(do audio later after download)"
   ]
  },
  {
   "cell_type": "code",
   "execution_count": 3,
   "metadata": {
    "scrolled": true
   },
   "outputs": [
    {
     "ename": "Exception",
     "evalue": "",
     "output_type": "error",
     "traceback": [
      "\u001b[1;31m---------------------------------------------------------------------------\u001b[0m",
      "\u001b[1;31mException\u001b[0m                                 Traceback (most recent call last)",
      "\u001b[1;32m<ipython-input-3-7dda5b268639>\u001b[0m in \u001b[0;36m<module>\u001b[1;34m\u001b[0m\n\u001b[0;32m     17\u001b[0m \u001b[1;33m\u001b[0m\u001b[0m\n\u001b[0;32m     18\u001b[0m \u001b[1;33m\u001b[0m\u001b[0m\n\u001b[1;32m---> 19\u001b[1;33m     \u001b[1;32mraise\u001b[0m \u001b[0mException\u001b[0m\u001b[1;33m(\u001b[0m\u001b[1;33m)\u001b[0m\u001b[1;33m\u001b[0m\u001b[1;33m\u001b[0m\u001b[0m\n\u001b[0m\u001b[0;32m     20\u001b[0m     \u001b[0mtime\u001b[0m\u001b[1;33m.\u001b[0m\u001b[0msleep\u001b[0m\u001b[1;33m(\u001b[0m\u001b[1;36m10\u001b[0m\u001b[1;33m)\u001b[0m\u001b[1;33m\u001b[0m\u001b[1;33m\u001b[0m\u001b[0m\n",
      "\u001b[1;31mException\u001b[0m: "
     ]
    }
   ],
   "source": [
    "# import jp_proxy_widget\n",
    "# from scipy.io import wavfile\n",
    "\n",
    "\"\"\" Demo: auto-updating time series plot, use with voila and watch update \"\"\"\n",
    "\n",
    "import plotly.express as px\n",
    "from jupyter_dash import JupyterDash\n",
    "import dash_core_components as dcc\n",
    "import dash_html_components as html\n",
    "from dash.dependencies import Input, Output\n",
    "\n",
    "while True:\n",
    "    currBar = nextChunk(musicStream, chunksize=100)\n",
    "    if currBar is None:\n",
    "        print(\"End of stream!\")\n",
    "        break\n",
    "    raise Exception()\n",
    "    time.sleep(10)"
   ]
  },
  {
   "cell_type": "code",
   "execution_count": 11,
   "metadata": {
    "scrolled": false
   },
   "outputs": [
    {
     "data": {
      "text/html": [
       "\n",
       "        <iframe\n",
       "            width=\"100%\"\n",
       "            height=\"650\"\n",
       "            src=\"http://127.0.0.1:8050/\"\n",
       "            frameborder=\"0\"\n",
       "            allowfullscreen\n",
       "        ></iframe>\n",
       "        "
      ],
      "text/plain": [
       "<IPython.lib.display.IFrame at 0x14f0b7a85c8>"
      ]
     },
     "metadata": {},
     "output_type": "display_data"
    }
   ],
   "source": [
    "# Build App\n",
    "external_stylesheets = ['https://codepen.io/chriddyp/pen/bWLwgP.css']\n",
    "app = JupyterDash(__name__, external_stylesheets=external_stylesheets)\n",
    "app.layout = html.Div([\n",
    "    html.H1(\"JupyterDash Demo\"),\n",
    "    dcc.Graph(id='graph'),\n",
    "    html.Label([\n",
    "        \"colorscale\",\n",
    "        dcc.Dropdown(\n",
    "            id='colorscale-dropdown', clearable=False,\n",
    "            value='plasma', options=[\n",
    "                {'label': c, 'value': c}\n",
    "                for c in px.colors.named_colorscales()\n",
    "            ])\n",
    "    ]),\n",
    "    dcc.Interval(\n",
    "        id='interval-component',\n",
    "        interval=2*1000, # in milliseconds\n",
    "        n_intervals=0\n",
    "    )\n",
    "])\n",
    "# Define callback to update graph\n",
    "@app.callback(\n",
    "    Output('graph', 'figure'),\n",
    "    Input(\"colorscale-dropdown\", \"value\"),\n",
    "    Input(\"interval-component\", \"n_intervals\"))\n",
    "def update_figure(colorscale, n_intervals):\n",
    "    currBar = nextChunk(musicStream)\n",
    "    fig = px.scatter(\n",
    "        # like ggplot with color based on group\n",
    "        currBar, x=\"start_sec\", y=\"pitch_mean\", color=\"pitch_mean\",\n",
    "        color_continuous_scale=colorscale,\n",
    "        render_mode=\"webgl\", title=\"Average pitch per bar (streaming)\",range_y=[21, 108])\n",
    "    return(fig)\n",
    "\n",
    "# Run app and display result inline in the notebook\n",
    "app.run_server(mode='inline')"
   ]
  },
  {
   "cell_type": "code",
   "execution_count": null,
   "metadata": {},
   "outputs": [],
   "source": []
  },
  {
   "cell_type": "code",
   "execution_count": null,
   "metadata": {},
   "outputs": [],
   "source": [
    "import datetime\n",
    "\n",
    "import dash\n",
    "import dash_core_components as dcc\n",
    "import dash_html_components as html\n",
    "import plotly\n",
    "from dash.dependencies import Input, Output\n",
    "\n",
    "# pip install pyorbital\n",
    "from pyorbital.orbital import Orbital\n",
    "satellite = Orbital('TERRA')\n",
    "\n",
    "external_stylesheets = ['https://codepen.io/chriddyp/pen/bWLwgP.css']\n",
    "\n",
    "app = dash.Dash(__name__, external_stylesheets=external_stylesheets)\n",
    "app.layout = html.Div(\n",
    "    html.Div([\n",
    "        html.H4('TERRA Satellite Live Feed'),\n",
    "        html.Div(id='live-update-text'),\n",
    "        dcc.Graph(id='live-update-graph'),\n",
    "        dcc.Interval(\n",
    "            id='interval-component',\n",
    "            interval=1*1000, # in milliseconds\n",
    "            n_intervals=0\n",
    "        )\n",
    "    ])\n",
    ")\n",
    "\n",
    "\n",
    "@app.callback(Output('live-update-text', 'children'),\n",
    "              Input('interval-component', 'n_intervals'))\n",
    "def update_metrics(n):\n",
    "    lon, lat, alt = satellite.get_lonlatalt(datetime.datetime.now())\n",
    "    style = {'padding': '5px', 'fontSize': '16px'}\n",
    "    return [\n",
    "        html.Span('Longitude: {0:.2f}'.format(lon), style=style),\n",
    "        html.Span('Latitude: {0:.2f}'.format(lat), style=style),\n",
    "        html.Span('Altitude: {0:0.2f}'.format(alt), style=style)\n",
    "    ]\n",
    "\n",
    "\n",
    "# Multiple components can update everytime interval gets fired.\n",
    "@app.callback(Output('live-update-graph', 'figure'),\n",
    "              Input('interval-component', 'n_intervals'))\n",
    "def update_graph_live(n):\n",
    "    satellite = Orbital('TERRA')\n",
    "    data = {\n",
    "        'time': [],\n",
    "        'Latitude': [],\n",
    "        'Longitude': [],\n",
    "        'Altitude': []\n",
    "    }\n",
    "\n",
    "    # Collect some data\n",
    "    for i in range(180):\n",
    "        time = datetime.datetime.now() - datetime.timedelta(seconds=i*20)\n",
    "        lon, lat, alt = satellite.get_lonlatalt(\n",
    "            time\n",
    "        )\n",
    "        data['Longitude'].append(lon)\n",
    "        data['Latitude'].append(lat)\n",
    "        data['Altitude'].append(alt)\n",
    "        data['time'].append(time)\n",
    "\n",
    "    # Create the graph with subplots\n",
    "    fig = plotly.tools.make_subplots(rows=2, cols=1, vertical_spacing=0.2)\n",
    "    fig['layout']['margin'] = {\n",
    "        'l': 30, 'r': 10, 'b': 30, 't': 10\n",
    "    }\n",
    "    fig['layout']['legend'] = {'x': 0, 'y': 1, 'xanchor': 'left'}\n",
    "\n",
    "    fig.append_trace({\n",
    "        'x': data['time'],\n",
    "        'y': data['Altitude'],\n",
    "        'name': 'Altitude',\n",
    "        'mode': 'lines+markers',\n",
    "        'type': 'scatter'\n",
    "    }, 1, 1)\n",
    "    fig.append_trace({\n",
    "        'x': data['Longitude'],\n",
    "        'y': data['Latitude'],\n",
    "        'text': data['time'],\n",
    "        'name': 'Longitude vs Latitude',\n",
    "        'mode': 'lines+markers',\n",
    "        'type': 'scatter'\n",
    "    }, 2, 1)\n",
    "\n",
    "    return fig"
   ]
  },
  {
   "cell_type": "markdown",
   "metadata": {},
   "source": [
    "### Task 2: Play music and visualize primitive information, construct financial equities, visualize"
   ]
  },
  {
   "cell_type": "code",
   "execution_count": null,
   "metadata": {},
   "outputs": [],
   "source": [
    "\"\"\" SPECTROGRAM\n",
    "    No machine learning required for this.\n",
    "\"\"\"\n",
    "\n",
    "#"
   ]
  },
  {
   "cell_type": "code",
   "execution_count": null,
   "metadata": {},
   "outputs": [],
   "source": [
    "\"\"\" NOTE DENSITY\n",
    "    No machine learning required for this.\n",
    "\"\"\"\n",
    "\n",
    "#"
   ]
  },
  {
   "cell_type": "markdown",
   "metadata": {},
   "source": [
    "### Task 3: Extract music features from MIDI in real-time, construct financial equities, visualize\n",
    "\n",
    "Sequential learning.\n",
    "- Validate (try out) against the streamed music audio and series.\n",
    "- These are the constructed underlyings for financial equities, upon which prediction/regression can work.\n",
    "\n",
    "Make a local API so other scripts can GET/POST requests (bid/ask) for this."
   ]
  },
  {
   "cell_type": "code",
   "execution_count": null,
   "metadata": {},
   "outputs": [],
   "source": [
    "\"\"\" TEMPO\n",
    "    Strategy: linear Gaussian state space model / Kalman filter.\n",
    "    Model tempo (latent variable zt) as a function of notes etc. (observed variables x1 ... xt)\n",
    "    https://www.researchgate.net/publication/224711190_A_Modified_Kalman_Filtering_Approach_to_On-Line_Musical_Beat_Tracking\n",
    "\"\"\"\n",
    "\n",
    "\n"
   ]
  },
  {
   "cell_type": "code",
   "execution_count": null,
   "metadata": {},
   "outputs": [],
   "source": [
    "\"\"\" HARMONY\n",
    "\"\"\"\n",
    "\n",
    "#"
   ]
  },
  {
   "cell_type": "code",
   "execution_count": null,
   "metadata": {},
   "outputs": [],
   "source": [
    "\"\"\" RHYTHM\n",
    "\"\"\"\n",
    "\n",
    "#"
   ]
  },
  {
   "cell_type": "code",
   "execution_count": null,
   "metadata": {},
   "outputs": [],
   "source": []
  }
 ],
 "metadata": {
  "kernelspec": {
   "display_name": "Python 3",
   "language": "python",
   "name": "python3"
  },
  "language_info": {
   "codemirror_mode": {
    "name": "ipython",
    "version": 3
   },
   "file_extension": ".py",
   "mimetype": "text/x-python",
   "name": "python",
   "nbconvert_exporter": "python",
   "pygments_lexer": "ipython3",
   "version": "3.7.9"
  }
 },
 "nbformat": 4,
 "nbformat_minor": 4
}
