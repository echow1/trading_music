{
 "cells": [
  {
   "cell_type": "markdown",
   "metadata": {},
   "source": [
    "# Task 0: predicting structural breaks in sequential Google Maestro data\n",
    "\n",
    "Uses sequential data + regression. \n",
    "\n",
    "Potentially useful articles:\n",
    "- Zhao, Kaiguang, et al. \"Detecting change-point, trend, and seasonality in satellite time series data to track abrupt changes and nonlinear dynamics: A Bayesian ensemble algorithm.\" Remote sensing of Environment 232 (2019): 111181.\n",
    "- Jiang, Yu, Zhe Song, and Andrew Kusiak. \"Very short-term wind speed forecasting with Bayesian structural break model.\" Renewable energy 50 (2013): 637-647.\n",
    "- Pesaran, M. Hashem, Davide Pettenuzzo, and Allan Timmermann. \"Forecasting time series subject to multiple structural breaks.\" The Review of Economic Studies 73.4 (2006): 1057-1084.\n",
    "- De Brouwer, Edward, et al. \"Gru-ode-bayes: Continuous modeling of sporadically-observed time series.\" arXiv preprint arXiv:1905.12374 (2019).\n",
    "- Thies, Sven, and Peter Molnár. \"Bayesian change point analysis of Bitcoin returns.\" Finance Research Letters 27 (2018): 223-227."
   ]
  },
  {
   "cell_type": "code",
   "execution_count": 1,
   "metadata": {},
   "outputs": [
    {
     "name": "stderr",
     "output_type": "stream",
     "text": [
      "C:\\Users\\echow\\Miniconda3\\envs\\tensorflow\\lib\\site-packages\\librosa\\util\\decorators.py:9: NumbaDeprecationWarning: \u001b[1mAn import was requested from a module that has moved location.\n",
      "Import requested from: 'numba.decorators', please update to use 'numba.core.decorators' or pin to Numba version 0.48.0. This alias will not be present in Numba version 0.50.0.\u001b[0m\n",
      "  from numba.decorators import jit as optional_jit\n",
      "C:\\Users\\echow\\Miniconda3\\envs\\tensorflow\\lib\\site-packages\\librosa\\util\\decorators.py:9: NumbaDeprecationWarning: \u001b[1mAn import was requested from a module that has moved location.\n",
      "Import of 'jit' requested from: 'numba.decorators', please update to use 'numba.core.decorators' or pin to Numba version 0.48.0. This alias will not be present in Numba version 0.50.0.\u001b[0m\n",
      "  from numba.decorators import jit as optional_jit\n",
      "C:\\Users\\echow\\Miniconda3\\envs\\tensorflow\\lib\\site-packages\\pydub\\utils.py:170: RuntimeWarning: Couldn't find ffmpeg or avconv - defaulting to ffmpeg, but may not work\n",
      "  warn(\"Couldn't find ffmpeg or avconv - defaulting to ffmpeg, but may not work\", RuntimeWarning)\n"
     ]
    }
   ],
   "source": [
    "from __future__ import division\n",
    "from more_itertools import peekable\n",
    "import numpy as np\n",
    "import pandas as pd\n",
    "import matplotlib.pyplot as plt\n",
    "import scipy as scp\n",
    "import pickle\n",
    "import magenta\n",
    "import os, time, re, json, glob\n",
    "%matplotlib inline\n",
    "from IPython.core.display import display, HTML\n",
    "### change width of notebook display\n",
    "# display(HTML(\"<style>.container { width:70% !important; }</style>\"))\n",
    "from pathlib import Path\n",
    "import ipdb;\n",
    "def debug(): ipdb.set_trace() # debugging starts here\n",
    "\n",
    "import plotly.express as px\n",
    "from jupyter_dash import JupyterDash\n",
    "import dash_core_components as dcc\n",
    "import dash_html_components as html\n",
    "from dash.dependencies import Input, Output\n",
    "\n",
    "# for exposing API\n",
    "import dash\n",
    "import dash_core_components as dcc\n",
    "import dash_html_components as html\n",
    "from dash.dependencies import Input, Output\n",
    "from flask import Flask\n",
    "from flask_restful import Resource, Api\n",
    "\n",
    "JUPYTER_PICKLE_FILE = \"config/shared_jupyter_data.pkl\"\n",
    "def write_shared_jupyter(key, value, path=JUPYTER_PICKLE_FILE, overwrite=False):\n",
    "    if (os.path.exists(path)):\n",
    "        with open(path, \"rb\") as fp:\n",
    "            shared_jupyter_data = pickle.load(fp)\n",
    "        if overwrite:\n",
    "            shared_jupyter_data = {key: value}\n",
    "        else:\n",
    "            shared_jupyter_data[key] = value\n",
    "    else:\n",
    "        shared_jupyter_data = {key: value}\n",
    "    with open(path, 'wb') as fp: \n",
    "        pickle.dump(shared_jupyter_data, fp)\n",
    "\n",
    "def read_shared_jupyter(key=None, path=JUPYTER_PICKLE_FILE):\n",
    "    if (os.path.exists(path)):\n",
    "        with open(path, \"rb\") as fp:\n",
    "            shared_jupyter_data = pickle.load(fp)\n",
    "            if key is not None:\n",
    "                if key in shared_jupyter_data:\n",
    "                    return(shared_jupyter_data[key])\n",
    "                else:\n",
    "                    print(\"Not found!\")\n",
    "                    return(None)\n",
    "            else:\n",
    "                return(shared_jupyter_data)\n",
    "    else:\n",
    "        print(\"No data\")\n",
    "\n",
    "def pandasToJson(df):\n",
    "    return(df.to_json(orient=\"split\"))\n",
    "def jsonToPandas(json):\n",
    "    return(pd.read_json(json, orient=\"split\"))\n",
    "\n",
    "pd.set_option('display.max_rows', 500)\n",
    "pd.set_option('display.max_columns', 500)\n",
    "pd.set_option('display.width', 1000)\n",
    "\n",
    "FIG_WIDTH = 1200\n",
    "FIG_HEIGHT = 800\n",
    "\n",
    "PITCH_MIN = 20\n",
    "PITCH_MAX = 120\n",
    "VELOCITY_MIN = 0\n",
    "VELOCITY_MAX = 120\n",
    "\n",
    "def hheader(x):\n",
    "    print(\"#########################################\")\n",
    "    print(\"### {}\".format(x))\n",
    "    print(\"#########################################\")\n",
    "\n",
    "# Magenta dependencies:\n",
    "# https://github.com/magenta/magenta\n",
    "\n",
    "# Magenta uses pretty_midi to deal with midi files\n",
    "import pretty_midi"
   ]
  },
  {
   "cell_type": "code",
   "execution_count": 2,
   "metadata": {},
   "outputs": [
    {
     "name": "stdout",
     "output_type": "stream",
     "text": [
      "task1_sequential_learning\n"
     ]
    }
   ],
   "source": [
    "### Set up overall folder for task 1\n",
    "INPUT_FOLDER = \"data/maestro/maestro-v3.0.0/\"\n",
    "add_input_folder = lambda x: \"{}/{}\".format(INPUT_FOLDER, x).replace(\"//\", \"/\")\n",
    "\n",
    "OUTPUT_FOLDER = \"task1_sequential_learning\"\n",
    "if not os.path.exists(OUTPUT_FOLDER):\n",
    "    os.mkdir(OUTPUT_FOLDER)\n",
    "add_output_path = lambda x: \"{}/{}\".format(OUTPUT_FOLDER, x)\n",
    "\n",
    "print(OUTPUT_FOLDER)"
   ]
  },
  {
   "cell_type": "markdown",
   "metadata": {},
   "source": [
    "# Step 1 - Read in the Google Maestro data (MIDI)"
   ]
  },
  {
   "cell_type": "code",
   "execution_count": 3,
   "metadata": {},
   "outputs": [
    {
     "name": "stdout",
     "output_type": "stream",
     "text": [
      "task1_sequential_learning/step1\n"
     ]
    }
   ],
   "source": [
    "RUN_STEP_1 = False\n",
    "\n",
    "### Set up folder for step 1\n",
    "STEP1_FOLDER = add_output_path(\"step1\")\n",
    "if not os.path.exists(STEP1_FOLDER):\n",
    "    os.mkdir(STEP1_FOLDER)\n",
    "add_step1_path = lambda x: \"{}/{}\".format(STEP1_FOLDER, x)\n",
    "\n",
    "print(STEP1_FOLDER)"
   ]
  },
  {
   "cell_type": "code",
   "execution_count": 4,
   "metadata": {
    "scrolled": true
   },
   "outputs": [],
   "source": [
    "if RUN_STEP_1:\n",
    "    ### read in MIDI metadata\n",
    "    midi_metadata = pd.read_csv(add_input_folder(\"maestro-v3.0.0.csv\"))\n",
    "    midi_metadata.head()\n",
    "\n",
    "    ### read in MIDI files\n",
    "    filenames = [str(path) for path in Path('data/').rglob('*.midi')]\n",
    "\n",
    "    all_raw_dfs = []\n",
    "    all_agg_dfs = []\n",
    "    for cf, curr_file in enumerate(filenames):\n",
    "        curr_file_fmt = curr_file.replace(\"\\\\\", \"/\").replace(INPUT_FOLDER, \"\")\n",
    "        curr_file_out_seed = curr_file_fmt.replace(\"/\",\"__\").replace(\".midi\", \"\")\n",
    "        print(\"Processing file {} / {}\".format(cf+1, len(filenames)))\n",
    "\n",
    "        \"\"\" Raw MIDI file + metadata \"\"\"\n",
    "        curr_midi = pretty_midi.PrettyMIDI(curr_file)\n",
    "        solo_piano_part = curr_midi.instruments[0]\n",
    "        df_notes = pd.DataFrame([(n.start, n.end, n.pitch, n.velocity, n.duration) for n in solo_piano_part.notes],\n",
    "                                columns=['start', 'end', 'pitch', 'velocity', 'duration'])\n",
    "        df_metadata = midi_metadata[midi_metadata['midi_filename']==curr_file_fmt]\n",
    "        df_metadata = df_metadata.rename(columns={\"duration\": \"total_duration\"})\n",
    "        df_metadata.drop(columns=\"audio_filename\", inplace=True) # don't need audio for now\n",
    "        curr_filename = df_metadata['midi_filename'].values[0].replace(\"/\", \"__\")\n",
    "        df_curr = pd.merge(df_notes, df_metadata, how=\"cross\")\n",
    "        df_curr = df_curr.sort_values(by='start')\n",
    "        # df_curr.to_csv(add_step1_path(curr_file_out_seed + \"_raw_\" + \".csv\"))\n",
    "        all_raw_dfs.append(df_curr)\n",
    "\n",
    "        \"\"\" Time bar file + metadata \"\"\"\n",
    "        # Do not adjust start\n",
    "        EVERY_N_SEC = 1\n",
    "        df_curr_time = df_curr.copy()\n",
    "        df_curr_time['start_sec'] =  (df_curr_time['start'] / EVERY_N_SEC).apply(np.floor).astype(int) * EVERY_N_SEC\n",
    "        tmp = df_curr_time.select_dtypes(include=[np.number])\n",
    "        df_curr_time.loc[:, tmp.columns] = np.round(tmp, decimals=5)\n",
    "        def str_concat(x): return(','.join([str(s) for s in x]))\n",
    "        df_curr_time_agg = df_curr_time.groupby(['start_sec'], as_index=False).agg({\n",
    "            'start': [len, np.min, np.mean, np.median, np.max, str_concat],\n",
    "            'end': [np.min, np.mean, np.median, np.max, str_concat],\n",
    "            'pitch': [np.min, np.mean, np.median, np.max, str_concat],\n",
    "            'velocity': [np.min, np.mean, np.median, np.max, str_concat],\n",
    "            'duration': [np.min, np.mean, np.median, np.max, str_concat],\n",
    "            # metadata features - same for all observations\n",
    "            'canonical_composer': [pd.Series.mode],\n",
    "            'canonical_title': [pd.Series.mode],\n",
    "            'split': [pd.Series.mode],\n",
    "            'year': [pd.Series.mode],\n",
    "            'midi_filename': [pd.Series.mode],\n",
    "            'total_duration': [pd.Series.mode] })\n",
    "        df_curr_time_agg.columns = ['_'.join([cc for cc in c if len(cc) > 0])\n",
    "                                    .replace(\"amin\", \"min\").replace(\"amax\", \"max\").replace(\"start_len\", \"n_notes\")\n",
    "                                    for c in list(df_curr_time_agg.columns)]\n",
    "        df_curr_time_agg = pd.merge(df_curr_time_agg, # add missing times\n",
    "                                 pd.DataFrame(range(1, df_curr_time_agg.shape[0], 1), columns=[\"start_sec\"]), on=\"start_sec\",\n",
    "                                how='right').sort_values(by=\"start_sec\")\n",
    "        # df_curr_time_agg.to_csv(add_step1_path(curr_file_out_seed + \"_agg_\" + \".csv\"))\n",
    "        all_agg_dfs.append(df_curr_time_agg)"
   ]
  },
  {
   "cell_type": "code",
   "execution_count": 5,
   "metadata": {},
   "outputs": [],
   "source": [
    "### Write out big combined dataframes (<3 min)\n",
    "fp_raw_combined = add_step1_path(\"maestro_raw.csv\")\n",
    "fp_agg_combined = add_step1_path(\"maestro_agg.csv\")\n",
    "if RUN_STEP_1:\n",
    "    pd.concat([df.assign(piece_num=(dx+1)) for dx, df in enumerate(all_raw_dfs)]).to_csv(fp_raw_combined, index=False)\n",
    "    pd.concat([df.assign(piece_num=(dx+1)) for dx, df in enumerate(all_agg_dfs)]).to_csv(fp_agg_combined, index=False)"
   ]
  },
  {
   "cell_type": "markdown",
   "metadata": {},
   "source": [
    "# Step 2 - read in combined data"
   ]
  },
  {
   "cell_type": "code",
   "execution_count": 6,
   "metadata": {},
   "outputs": [
    {
     "name": "stdout",
     "output_type": "stream",
     "text": [
      "task1_sequential_learning/step2\n"
     ]
    }
   ],
   "source": [
    "RUN_STEP_2 = True\n",
    "\n",
    "### Set up folder for step 2\n",
    "STEP2_FOLDER = add_output_path(\"step2\")\n",
    "if not os.path.exists(STEP2_FOLDER):\n",
    "    os.mkdir(STEP2_FOLDER)\n",
    "add_step2_path = lambda x: \"{}/{}\".format(STEP2_FOLDER, x)\n",
    "\n",
    "print(STEP2_FOLDER)"
   ]
  },
  {
   "cell_type": "code",
   "execution_count": 7,
   "metadata": {},
   "outputs": [
    {
     "name": "stdout",
     "output_type": "stream",
     "text": [
      "(7040164, 12)\n"
     ]
    },
    {
     "data": {
      "text/html": [
       "<div>\n",
       "<style scoped>\n",
       "    .dataframe tbody tr th:only-of-type {\n",
       "        vertical-align: middle;\n",
       "    }\n",
       "\n",
       "    .dataframe tbody tr th {\n",
       "        vertical-align: top;\n",
       "    }\n",
       "\n",
       "    .dataframe thead th {\n",
       "        text-align: right;\n",
       "    }\n",
       "</style>\n",
       "<table border=\"1\" class=\"dataframe\">\n",
       "  <thead>\n",
       "    <tr style=\"text-align: right;\">\n",
       "      <th></th>\n",
       "      <th>start</th>\n",
       "      <th>end</th>\n",
       "      <th>pitch</th>\n",
       "      <th>velocity</th>\n",
       "      <th>duration</th>\n",
       "      <th>canonical_composer</th>\n",
       "      <th>canonical_title</th>\n",
       "      <th>split</th>\n",
       "      <th>year</th>\n",
       "      <th>midi_filename</th>\n",
       "      <th>total_duration</th>\n",
       "      <th>piece_num</th>\n",
       "    </tr>\n",
       "  </thead>\n",
       "  <tbody>\n",
       "    <tr>\n",
       "      <th>0</th>\n",
       "      <td>1.092708</td>\n",
       "      <td>1.189583</td>\n",
       "      <td>71</td>\n",
       "      <td>60</td>\n",
       "      <td>0.096875</td>\n",
       "      <td>Johann Sebastian Bach</td>\n",
       "      <td>French Suite No. 5 in G Major</td>\n",
       "      <td>train</td>\n",
       "      <td>2004</td>\n",
       "      <td>2004/MIDI-Unprocessed_SMF_02_R1_2004_01-05_ORI...</td>\n",
       "      <td>968.256759</td>\n",
       "      <td>1</td>\n",
       "    </tr>\n",
       "    <tr>\n",
       "      <th>1</th>\n",
       "      <td>1.279167</td>\n",
       "      <td>1.496875</td>\n",
       "      <td>55</td>\n",
       "      <td>44</td>\n",
       "      <td>0.217708</td>\n",
       "      <td>Johann Sebastian Bach</td>\n",
       "      <td>French Suite No. 5 in G Major</td>\n",
       "      <td>train</td>\n",
       "      <td>2004</td>\n",
       "      <td>2004/MIDI-Unprocessed_SMF_02_R1_2004_01-05_ORI...</td>\n",
       "      <td>968.256759</td>\n",
       "      <td>1</td>\n",
       "    </tr>\n",
       "    <tr>\n",
       "      <th>2</th>\n",
       "      <td>1.288542</td>\n",
       "      <td>1.793750</td>\n",
       "      <td>71</td>\n",
       "      <td>54</td>\n",
       "      <td>0.505208</td>\n",
       "      <td>Johann Sebastian Bach</td>\n",
       "      <td>French Suite No. 5 in G Major</td>\n",
       "      <td>train</td>\n",
       "      <td>2004</td>\n",
       "      <td>2004/MIDI-Unprocessed_SMF_02_R1_2004_01-05_ORI...</td>\n",
       "      <td>968.256759</td>\n",
       "      <td>1</td>\n",
       "    </tr>\n",
       "    <tr>\n",
       "      <th>3</th>\n",
       "      <td>1.463542</td>\n",
       "      <td>1.631250</td>\n",
       "      <td>59</td>\n",
       "      <td>55</td>\n",
       "      <td>0.167708</td>\n",
       "      <td>Johann Sebastian Bach</td>\n",
       "      <td>French Suite No. 5 in G Major</td>\n",
       "      <td>train</td>\n",
       "      <td>2004</td>\n",
       "      <td>2004/MIDI-Unprocessed_SMF_02_R1_2004_01-05_ORI...</td>\n",
       "      <td>968.256759</td>\n",
       "      <td>1</td>\n",
       "    </tr>\n",
       "    <tr>\n",
       "      <th>4</th>\n",
       "      <td>1.633333</td>\n",
       "      <td>1.753125</td>\n",
       "      <td>62</td>\n",
       "      <td>52</td>\n",
       "      <td>0.119792</td>\n",
       "      <td>Johann Sebastian Bach</td>\n",
       "      <td>French Suite No. 5 in G Major</td>\n",
       "      <td>train</td>\n",
       "      <td>2004</td>\n",
       "      <td>2004/MIDI-Unprocessed_SMF_02_R1_2004_01-05_ORI...</td>\n",
       "      <td>968.256759</td>\n",
       "      <td>1</td>\n",
       "    </tr>\n",
       "  </tbody>\n",
       "</table>\n",
       "</div>"
      ],
      "text/plain": [
       "      start       end  pitch  velocity  duration     canonical_composer                canonical_title  split  year                                      midi_filename  total_duration  piece_num\n",
       "0  1.092708  1.189583     71        60  0.096875  Johann Sebastian Bach  French Suite No. 5 in G Major  train  2004  2004/MIDI-Unprocessed_SMF_02_R1_2004_01-05_ORI...      968.256759          1\n",
       "1  1.279167  1.496875     55        44  0.217708  Johann Sebastian Bach  French Suite No. 5 in G Major  train  2004  2004/MIDI-Unprocessed_SMF_02_R1_2004_01-05_ORI...      968.256759          1\n",
       "2  1.288542  1.793750     71        54  0.505208  Johann Sebastian Bach  French Suite No. 5 in G Major  train  2004  2004/MIDI-Unprocessed_SMF_02_R1_2004_01-05_ORI...      968.256759          1\n",
       "3  1.463542  1.631250     59        55  0.167708  Johann Sebastian Bach  French Suite No. 5 in G Major  train  2004  2004/MIDI-Unprocessed_SMF_02_R1_2004_01-05_ORI...      968.256759          1\n",
       "4  1.633333  1.753125     62        52  0.119792  Johann Sebastian Bach  French Suite No. 5 in G Major  train  2004  2004/MIDI-Unprocessed_SMF_02_R1_2004_01-05_ORI...      968.256759          1"
      ]
     },
     "metadata": {},
     "output_type": "display_data"
    },
    {
     "name": "stdout",
     "output_type": "stream",
     "text": [
      "(670870, 32)\n"
     ]
    },
    {
     "data": {
      "text/html": [
       "<div>\n",
       "<style scoped>\n",
       "    .dataframe tbody tr th:only-of-type {\n",
       "        vertical-align: middle;\n",
       "    }\n",
       "\n",
       "    .dataframe tbody tr th {\n",
       "        vertical-align: top;\n",
       "    }\n",
       "\n",
       "    .dataframe thead th {\n",
       "        text-align: right;\n",
       "    }\n",
       "</style>\n",
       "<table border=\"1\" class=\"dataframe\">\n",
       "  <thead>\n",
       "    <tr style=\"text-align: right;\">\n",
       "      <th></th>\n",
       "      <th>start_sec</th>\n",
       "      <th>n_notes</th>\n",
       "      <th>start_min</th>\n",
       "      <th>start_mean</th>\n",
       "      <th>start_median</th>\n",
       "      <th>start_max</th>\n",
       "      <th>start_str_concat</th>\n",
       "      <th>end_min</th>\n",
       "      <th>end_mean</th>\n",
       "      <th>end_median</th>\n",
       "      <th>end_max</th>\n",
       "      <th>end_str_concat</th>\n",
       "      <th>pitch_min</th>\n",
       "      <th>pitch_mean</th>\n",
       "      <th>pitch_median</th>\n",
       "      <th>pitch_max</th>\n",
       "      <th>pitch_str_concat</th>\n",
       "      <th>velocity_min</th>\n",
       "      <th>velocity_mean</th>\n",
       "      <th>velocity_median</th>\n",
       "      <th>velocity_max</th>\n",
       "      <th>velocity_str_concat</th>\n",
       "      <th>duration_min</th>\n",
       "      <th>duration_mean</th>\n",
       "      <th>duration_median</th>\n",
       "      <th>duration_max</th>\n",
       "      <th>duration_str_concat</th>\n",
       "      <th>canonical_composer_mode</th>\n",
       "      <th>split_mode</th>\n",
       "      <th>year_mode</th>\n",
       "      <th>total_duration_mode</th>\n",
       "      <th>piece_num</th>\n",
       "    </tr>\n",
       "  </thead>\n",
       "  <tbody>\n",
       "    <tr>\n",
       "      <th>0</th>\n",
       "      <td>1</td>\n",
       "      <td>9.0</td>\n",
       "      <td>1.09271</td>\n",
       "      <td>1.590392</td>\n",
       "      <td>1.633330</td>\n",
       "      <td>1.98333</td>\n",
       "      <td>1.09271,1.27917,1.28854,1.46354,1.63333,1.7864...</td>\n",
       "      <td>1.18958</td>\n",
       "      <td>1.812616</td>\n",
       "      <td>1.793750</td>\n",
       "      <td>2.52292</td>\n",
       "      <td>1.18958,1.49688,1.79375,1.63125,1.75312,1.8281...</td>\n",
       "      <td>55.0</td>\n",
       "      <td>65.333333</td>\n",
       "      <td>67.0</td>\n",
       "      <td>74.0</td>\n",
       "      <td>71,55,71,59,62,72,67,74,57</td>\n",
       "      <td>44.0</td>\n",
       "      <td>58.444444</td>\n",
       "      <td>56.0</td>\n",
       "      <td>76.0</td>\n",
       "      <td>60,44,54,55,52,76,56,68,61</td>\n",
       "      <td>0.04167</td>\n",
       "      <td>0.222222</td>\n",
       "      <td>0.16771</td>\n",
       "      <td>0.53958</td>\n",
       "      <td>0.09687,0.21771,0.50521,0.16771,0.11979,0.0416...</td>\n",
       "      <td>Johann Sebastian Bach</td>\n",
       "      <td>train</td>\n",
       "      <td>2004.0</td>\n",
       "      <td>968.25676</td>\n",
       "      <td>1</td>\n",
       "    </tr>\n",
       "    <tr>\n",
       "      <th>1</th>\n",
       "      <td>2</td>\n",
       "      <td>11.0</td>\n",
       "      <td>2.03750</td>\n",
       "      <td>2.430494</td>\n",
       "      <td>2.522920</td>\n",
       "      <td>2.88750</td>\n",
       "      <td>2.0375,2.09792,2.14896,2.17188,2.32812,2.52292...</td>\n",
       "      <td>2.10625</td>\n",
       "      <td>2.691477</td>\n",
       "      <td>2.589580</td>\n",
       "      <td>3.44792</td>\n",
       "      <td>2.10625,2.18229,2.51979,2.28021,2.50938,2.5895...</td>\n",
       "      <td>59.0</td>\n",
       "      <td>68.454545</td>\n",
       "      <td>71.0</td>\n",
       "      <td>74.0</td>\n",
       "      <td>72,74,72,67,66,71,64,72,74,59,62</td>\n",
       "      <td>35.0</td>\n",
       "      <td>57.636364</td>\n",
       "      <td>58.0</td>\n",
       "      <td>77.0</td>\n",
       "      <td>77,51,60,57,58,68,35,47,68,50,63</td>\n",
       "      <td>0.06667</td>\n",
       "      <td>0.260985</td>\n",
       "      <td>0.18125</td>\n",
       "      <td>0.76875</td>\n",
       "      <td>0.06875,0.08438,0.37083,0.10833,0.18125,0.0666...</td>\n",
       "      <td>Johann Sebastian Bach</td>\n",
       "      <td>train</td>\n",
       "      <td>2004.0</td>\n",
       "      <td>968.25676</td>\n",
       "      <td>1</td>\n",
       "    </tr>\n",
       "    <tr>\n",
       "      <th>2</th>\n",
       "      <td>3</td>\n",
       "      <td>7.0</td>\n",
       "      <td>3.08021</td>\n",
       "      <td>3.571726</td>\n",
       "      <td>3.619790</td>\n",
       "      <td>3.99271</td>\n",
       "      <td>3.08021,3.25,3.45312,3.61979,3.79896,3.80729,3...</td>\n",
       "      <td>3.27292</td>\n",
       "      <td>4.028869</td>\n",
       "      <td>3.966670</td>\n",
       "      <td>5.32812</td>\n",
       "      <td>3.27292,5.32812,3.60208,3.80625,4.02604,3.9666...</td>\n",
       "      <td>59.0</td>\n",
       "      <td>70.571429</td>\n",
       "      <td>71.0</td>\n",
       "      <td>79.0</td>\n",
       "      <td>66,67,71,74,78,59,79</td>\n",
       "      <td>58.0</td>\n",
       "      <td>67.571429</td>\n",
       "      <td>66.0</td>\n",
       "      <td>78.0</td>\n",
       "      <td>63,58,66,78,77,58,73</td>\n",
       "      <td>0.14896</td>\n",
       "      <td>0.457143</td>\n",
       "      <td>0.19271</td>\n",
       "      <td>2.07812</td>\n",
       "      <td>0.19271,2.07812,0.14896,0.18646,0.22708,0.1593...</td>\n",
       "      <td>Johann Sebastian Bach</td>\n",
       "      <td>train</td>\n",
       "      <td>2004.0</td>\n",
       "      <td>968.25676</td>\n",
       "      <td>1</td>\n",
       "    </tr>\n",
       "    <tr>\n",
       "      <th>3</th>\n",
       "      <td>4</td>\n",
       "      <td>8.0</td>\n",
       "      <td>4.17292</td>\n",
       "      <td>4.532163</td>\n",
       "      <td>4.521355</td>\n",
       "      <td>4.91979</td>\n",
       "      <td>4.17292,4.18229,4.34896,4.51875,4.52396,4.6968...</td>\n",
       "      <td>4.33333</td>\n",
       "      <td>4.732423</td>\n",
       "      <td>4.694795</td>\n",
       "      <td>5.30729</td>\n",
       "      <td>4.34271,4.33333,4.52083,4.68438,4.70521,4.8979...</td>\n",
       "      <td>57.0</td>\n",
       "      <td>69.500000</td>\n",
       "      <td>73.0</td>\n",
       "      <td>79.0</td>\n",
       "      <td>76,60,79,74,59,79,72,57</td>\n",
       "      <td>47.0</td>\n",
       "      <td>63.375000</td>\n",
       "      <td>65.5</td>\n",
       "      <td>76.0</td>\n",
       "      <td>76,54,68,70,59,63,70,47</td>\n",
       "      <td>0.15104</td>\n",
       "      <td>0.200261</td>\n",
       "      <td>0.17292</td>\n",
       "      <td>0.38750</td>\n",
       "      <td>0.16979,0.15104,0.17188,0.16563,0.18125,0.2010...</td>\n",
       "      <td>Johann Sebastian Bach</td>\n",
       "      <td>train</td>\n",
       "      <td>2004.0</td>\n",
       "      <td>968.25676</td>\n",
       "      <td>1</td>\n",
       "    </tr>\n",
       "    <tr>\n",
       "      <th>4</th>\n",
       "      <td>5</td>\n",
       "      <td>7.0</td>\n",
       "      <td>5.07812</td>\n",
       "      <td>5.449553</td>\n",
       "      <td>5.440620</td>\n",
       "      <td>5.81042</td>\n",
       "      <td>5.07812,5.27188,5.27812,5.44062,5.63333,5.6343...</td>\n",
       "      <td>5.25833</td>\n",
       "      <td>5.730654</td>\n",
       "      <td>5.635420</td>\n",
       "      <td>6.35833</td>\n",
       "      <td>5.25833,5.45104,5.61458,5.63542,5.79688,6.3583...</td>\n",
       "      <td>55.0</td>\n",
       "      <td>69.714286</td>\n",
       "      <td>71.0</td>\n",
       "      <td>81.0</td>\n",
       "      <td>71,72,66,81,72,55,71</td>\n",
       "      <td>61.0</td>\n",
       "      <td>69.428571</td>\n",
       "      <td>70.0</td>\n",
       "      <td>73.0</td>\n",
       "      <td>72,73,61,73,70,67,70</td>\n",
       "      <td>0.16354</td>\n",
       "      <td>0.281101</td>\n",
       "      <td>0.18958</td>\n",
       "      <td>0.72396</td>\n",
       "      <td>0.18021,0.17917,0.33646,0.19479,0.16354,0.7239...</td>\n",
       "      <td>Johann Sebastian Bach</td>\n",
       "      <td>train</td>\n",
       "      <td>2004.0</td>\n",
       "      <td>968.25676</td>\n",
       "      <td>1</td>\n",
       "    </tr>\n",
       "  </tbody>\n",
       "</table>\n",
       "</div>"
      ],
      "text/plain": [
       "   start_sec  n_notes  start_min  start_mean  start_median  start_max                                   start_str_concat  end_min  end_mean  end_median  end_max                                     end_str_concat  pitch_min  pitch_mean  pitch_median  pitch_max                  pitch_str_concat  velocity_min  velocity_mean  velocity_median  velocity_max               velocity_str_concat  duration_min  duration_mean  duration_median  duration_max                                duration_str_concat canonical_composer_mode split_mode  year_mode  total_duration_mode  piece_num\n",
       "0          1      9.0    1.09271    1.590392      1.633330    1.98333  1.09271,1.27917,1.28854,1.46354,1.63333,1.7864...  1.18958  1.812616    1.793750  2.52292  1.18958,1.49688,1.79375,1.63125,1.75312,1.8281...       55.0   65.333333          67.0       74.0        71,55,71,59,62,72,67,74,57          44.0      58.444444             56.0          76.0        60,44,54,55,52,76,56,68,61       0.04167       0.222222          0.16771       0.53958  0.09687,0.21771,0.50521,0.16771,0.11979,0.0416...   Johann Sebastian Bach      train     2004.0            968.25676          1\n",
       "1          2     11.0    2.03750    2.430494      2.522920    2.88750  2.0375,2.09792,2.14896,2.17188,2.32812,2.52292...  2.10625  2.691477    2.589580  3.44792  2.10625,2.18229,2.51979,2.28021,2.50938,2.5895...       59.0   68.454545          71.0       74.0  72,74,72,67,66,71,64,72,74,59,62          35.0      57.636364             58.0          77.0  77,51,60,57,58,68,35,47,68,50,63       0.06667       0.260985          0.18125       0.76875  0.06875,0.08438,0.37083,0.10833,0.18125,0.0666...   Johann Sebastian Bach      train     2004.0            968.25676          1\n",
       "2          3      7.0    3.08021    3.571726      3.619790    3.99271  3.08021,3.25,3.45312,3.61979,3.79896,3.80729,3...  3.27292  4.028869    3.966670  5.32812  3.27292,5.32812,3.60208,3.80625,4.02604,3.9666...       59.0   70.571429          71.0       79.0              66,67,71,74,78,59,79          58.0      67.571429             66.0          78.0              63,58,66,78,77,58,73       0.14896       0.457143          0.19271       2.07812  0.19271,2.07812,0.14896,0.18646,0.22708,0.1593...   Johann Sebastian Bach      train     2004.0            968.25676          1\n",
       "3          4      8.0    4.17292    4.532163      4.521355    4.91979  4.17292,4.18229,4.34896,4.51875,4.52396,4.6968...  4.33333  4.732423    4.694795  5.30729  4.34271,4.33333,4.52083,4.68438,4.70521,4.8979...       57.0   69.500000          73.0       79.0           76,60,79,74,59,79,72,57          47.0      63.375000             65.5          76.0           76,54,68,70,59,63,70,47       0.15104       0.200261          0.17292       0.38750  0.16979,0.15104,0.17188,0.16563,0.18125,0.2010...   Johann Sebastian Bach      train     2004.0            968.25676          1\n",
       "4          5      7.0    5.07812    5.449553      5.440620    5.81042  5.07812,5.27188,5.27812,5.44062,5.63333,5.6343...  5.25833  5.730654    5.635420  6.35833  5.25833,5.45104,5.61458,5.63542,5.79688,6.3583...       55.0   69.714286          71.0       81.0              71,72,66,81,72,55,71          61.0      69.428571             70.0          73.0              72,73,61,73,70,67,70       0.16354       0.281101          0.18958       0.72396  0.18021,0.17917,0.33646,0.19479,0.16354,0.7239...   Johann Sebastian Bach      train     2004.0            968.25676          1"
      ]
     },
     "metadata": {},
     "output_type": "display_data"
    }
   ],
   "source": [
    "### <2 min\n",
    "df_maestro_raw = pd.read_csv(fp_raw_combined)\n",
    "df_maestro_agg = pd.read_csv(fp_agg_combined)\n",
    "\n",
    "print(df_maestro_raw.shape)\n",
    "display(df_maestro_raw.head())\n",
    "print(df_maestro_agg.shape)\n",
    "display(df_maestro_agg.head())\n",
    "# all pieces start at least at start second 1 or later\n",
    "# (df_maestro_agg.start_min - df_maestro_agg.start_sec).describe()"
   ]
  },
  {
   "cell_type": "markdown",
   "metadata": {},
   "source": [
    "Raw is basically a dataframe of all the raw irregular time series (concatenated), while agg is basically a processed version that is by every 1 second, 2 second, etc. (still aligned with raw file timestamps, NOT realigned)."
   ]
  },
  {
   "cell_type": "markdown",
   "metadata": {},
   "source": [
    "# Step 3 - modeling"
   ]
  },
  {
   "cell_type": "code",
   "execution_count": 8,
   "metadata": {},
   "outputs": [],
   "source": [
    "### Set the time series to predict etc.\n",
    "ts = df_maestro_agg[['pitch_mean']]\n",
    "\n",
    "### Can always do multivariate, other time series, etc. later."
   ]
  },
  {
   "cell_type": "markdown",
   "metadata": {},
   "source": [
    "### Model 1: Kalman filter + CUSUM for structural breaks\n",
    "\n",
    "Source:\n",
    "- Puhm, Martin, et al. \"A Near Real-Time Method for Forest Change Detection Based on a Structural Time Series Model and the Kalman Filter.\" Remote Sensing 12.19 (2020): 3135."
   ]
  },
  {
   "cell_type": "code",
   "execution_count": 10,
   "metadata": {
    "scrolled": true
   },
   "outputs": [
    {
     "name": "stdout",
     "output_type": "stream",
     "text": [
      "Training observation 10001 / 670869 ...\n",
      "Training observation 20001 / 670869 ...\n",
      "Training observation 30001 / 670869 ...\n",
      "Training observation 40001 / 670869 ...\n",
      "Training observation 50001 / 670869 ...\n",
      "Training observation 60001 / 670869 ...\n",
      "Training observation 70001 / 670869 ...\n",
      "Training observation 80001 / 670869 ...\n",
      "Training observation 90001 / 670869 ...\n",
      "Training observation 100001 / 670869 ...\n",
      "Training observation 110001 / 670869 ...\n",
      "Training observation 120001 / 670869 ...\n",
      "Training observation 130001 / 670869 ...\n",
      "Training observation 140001 / 670869 ...\n",
      "Training observation 150001 / 670869 ...\n",
      "Training observation 160001 / 670869 ...\n",
      "Training observation 170001 / 670869 ...\n",
      "Training observation 180001 / 670869 ...\n",
      "Training observation 190001 / 670869 ...\n",
      "Training observation 200001 / 670869 ...\n",
      "Training observation 210001 / 670869 ...\n",
      "Training observation 220001 / 670869 ...\n",
      "Training observation 230001 / 670869 ...\n",
      "Training observation 240001 / 670869 ...\n",
      "Training observation 250001 / 670869 ...\n",
      "Training observation 260001 / 670869 ...\n",
      "Training observation 270001 / 670869 ...\n",
      "Training observation 280001 / 670869 ...\n",
      "Training observation 290001 / 670869 ...\n",
      "Training observation 300001 / 670869 ...\n",
      "Training observation 310001 / 670869 ...\n",
      "Training observation 320001 / 670869 ...\n",
      "Training observation 330001 / 670869 ...\n",
      "Training observation 340001 / 670869 ...\n",
      "Training observation 350001 / 670869 ...\n",
      "Training observation 360001 / 670869 ...\n",
      "Training observation 370001 / 670869 ...\n",
      "Training observation 380001 / 670869 ...\n",
      "Training observation 390001 / 670869 ...\n",
      "Training observation 400001 / 670869 ...\n",
      "Training observation 410001 / 670869 ...\n",
      "Training observation 420001 / 670869 ...\n",
      "Training observation 430001 / 670869 ...\n",
      "Training observation 440001 / 670869 ...\n",
      "Training observation 450001 / 670869 ...\n",
      "Training observation 460001 / 670869 ...\n",
      "Training observation 470001 / 670869 ...\n",
      "Training observation 480001 / 670869 ...\n",
      "Training observation 490001 / 670869 ...\n",
      "Training observation 500001 / 670869 ...\n",
      "Training observation 510001 / 670869 ...\n",
      "Training observation 520001 / 670869 ...\n",
      "Training observation 530001 / 670869 ...\n",
      "Training observation 540001 / 670869 ...\n",
      "Training observation 550001 / 670869 ...\n",
      "Training observation 560001 / 670869 ...\n",
      "Training observation 570001 / 670869 ...\n",
      "Training observation 580001 / 670869 ...\n",
      "Training observation 590001 / 670869 ...\n",
      "Training observation 600001 / 670869 ...\n",
      "Training observation 610001 / 670869 ...\n",
      "Training observation 620001 / 670869 ...\n",
      "Training observation 630001 / 670869 ...\n",
      "Training observation 640001 / 670869 ...\n",
      "Training observation 650001 / 670869 ...\n",
      "Training observation 660001 / 670869 ...\n",
      "Training observation 670001 / 670869 ...\n"
     ]
    }
   ],
   "source": [
    "\"\"\" Model parameters \"\"\"\n",
    "\n",
    "from scipy.stats import multivariate_normal\n",
    "from statsmodels.tsa.stattools import acovf\n",
    "from scipy.ndimage.interpolation import shift\n",
    "np.random.seed(42)\n",
    "np.set_printoptions(suppress=True) \n",
    "def pandas_fill(arr):\n",
    "    df = pd.DataFrame(arr)\n",
    "    df = df.fillna(method='ffill', axis=1, inplace=False)\n",
    "    out = df.to_numpy()\n",
    "    return out\n",
    "\n",
    "# for now, keep the noise matrices as constants (can improve later)\n",
    "# observations x: note, different dimension from Z (unlike sample code)\n",
    "df_X = None\n",
    "x_obs = None\n",
    "[n,d] = [None, None]\n",
    "x_obs_nonna = None\n",
    "# number of lags (minus one)\n",
    "L = 14\n",
    "### Latent state equation - vector z_t\n",
    "# z_t = A_t z_{t-1} + <other regressors> + w_t\n",
    "At = np.eye(L) # (L x L) - paper says to leave this as identity (random walk)\n",
    "Qt = np.diag(np.ones(L)) # (L x L) covariance of errors in state eq. - TUNE THIS\n",
    "### Observation equation - scalar x_t\n",
    "# x_t = C_t z_t + <other regressors> + v_t\n",
    "Ct = np.ones((1,L)) # (1 x L) - ARIMA lags - WILL OVERRIDE\n",
    "Rt = np.diag(np.ones(1)) # (1 x 1)\n",
    "# Simulate some plausible values for Qt and Rt\n",
    "# (could make Rt self-updating if time)\n",
    "Qt = np.diag(np.random.gamma(1,0.1,size=L)) # covar. mat is symmetric\n",
    "Rt = np.random.gamma(3, 4, size=np.diag(np.ones(1)).shape)\n",
    "# Initial conditions (for the state variable z, stored in mu vars)\n",
    "# z0 = x_obs[1:(L+1)]\n",
    "# initialize to equal weight on all lags\n",
    "z0 = np.repeat(1/L, L).reshape(-1, 1) # make state variable the WEIGHTS on lags NOT the LAGS themselves\n",
    "P0 = Qt\n",
    "#Objects to store predictions and filtering locations\n",
    "Z = None\n",
    "Zpred = None\n",
    "Xpred = None\n",
    "# store predictions\n",
    "z = z0 # predicted zhat, ()\n",
    "P = P0 # covariance of zhat, dim(L, L)\n",
    "Ct = Ct0 = None\n",
    "\n",
    "\n",
    "\"\"\" Train model \"\"\"\n",
    "\n",
    "# observations x: note, different dimension from Z (unlike sample code)\n",
    "df_X = ts\n",
    "x_obs = np.c_[df_X]\n",
    "[n,d] = x_obs.shape\n",
    "# create version of observations forward-filled\n",
    "x_obs_nonna = x_obs.copy()\n",
    "x_obs_nonna = pd.DataFrame(x_obs_nonna).ffill()[0].to_numpy().reshape(-1, 1)\n",
    "#Objects to store predictions and filtering locations\n",
    "Z = np.zeros((n,L))\n",
    "Zpred = np.zeros((n,L))\n",
    "Xpred = np.zeros((n,1))\n",
    "Ct0 = x_obs_nonna[0:(L)].T\n",
    "# fill forward if NAs at the start (edge case)\n",
    "if np.isnan(Ct0).any():\n",
    "    Ct0 = pandas_fill(Ct0)\n",
    "Ct = Ct0\n",
    "\n",
    "######## Train predictive model on historical data so far (will take some time)\n",
    "timerange = range(L, n-1) # data starts at 0 so start analysis at L for L lags\n",
    "for i in timerange:\n",
    "    if (i % 10000 == 0): print(\"Training observation {} / {} ...\".format(i+1, n-1))\n",
    "    ### Get current observations xt, t\n",
    "    # https://stats.stackexchange.com/questions/140990/using-kalman-filters-to-impute-missing-values-in-time-series\n",
    "    x = np.array(x_obs[i])\n",
    "    missing = any(np.isnan(x))\n",
    "    ### Prediction step using previous data against new data ---------------------------------------\n",
    "    # zhat, t|t-1\n",
    "    z = At.dot(z)\n",
    "    # Phat, t|t-1\n",
    "    P = At.dot(P).dot(At.T) + Qt\n",
    "    Zpred[i,:] = z.T\n",
    "    xhat = Ct.dot(z)\n",
    "#     print(\"{} -----------------------\".format(i+1))\n",
    "#     print(x_obs[(i-L):(i+1)].T) # all values thru i\n",
    "#     print(\">>> Ct: \", Ct)\n",
    "#     print(\">>> z.T: \", z.T)\n",
    "#     print(Ct.dot(z)) # predicted value for i\n",
    "    Xpred[i,:] = xhat\n",
    "    \n",
    "    ### Measurement update incorporating new data ---------------------------------------------------\n",
    "    # handle missing\n",
    "    if (missing):\n",
    "        Z[i,:] = np.nan\n",
    "        continue\n",
    "    ### embed ARIMA within the Kalman filter\n",
    "    Ct = x_obs_nonna[(i-L):(i)].T\n",
    "    ### Calculate Kalman gain and update log-likehood\n",
    "    # Kalman gain Kt\n",
    "    S = Ct.dot(P).dot(Ct.T) + Rt\n",
    "    Kt = P.dot(Ct.T).dot( np.linalg.inv(S))\n",
    "    ### Measurement update step\n",
    "    z = z + Kt.dot(x - Ct.dot(z))\n",
    "    Z[i,:] = z.T\n",
    "    # update P, t|t\n",
    "    P = P - Kt.dot(Ct).dot(P)\n",
    "    ### No backward smoothing - intended to work real-time\n",
    "    \n",
    "#     print()\n",
    "#     if (i > 50):\n",
    "#         raise Exception()"
   ]
  },
  {
   "cell_type": "code",
   "execution_count": null,
   "metadata": {
    "scrolled": false
   },
   "outputs": [],
   "source": [
    "\"\"\" Model results \"\"\"\n",
    "\n",
    "# (because zero-indexed and need lags 0 ... L-1 for the first pred)\n",
    "PLOT_TS_START = 0 # start from time L\n",
    "PLOT_TS_END = 100\n",
    "\n",
    "### Plot predictions\n",
    "# t=timerange # start from when have enough lags\n",
    "t = timerange[PLOT_TS_START:PLOT_TS_END]\n",
    "df_plt = pd.DataFrame({\n",
    "    \"time\": t,\n",
    "    \"raw\": x_obs[t, 0],\n",
    "    \"pred\": Xpred[t, 0]\n",
    "#     \"predicted\": Zpred[timerange,0],\n",
    "#     \"filtered\": Z[timerange, 0]\n",
    "})\n",
    "df_plt['diff'] = df_plt['raw'].shift() # just for debugging\n",
    "df_plt['diff_error'] = df_plt['raw'] - df_plt['diff']\n",
    "df_plt['error'] = (x_obs[t,0] - Xpred[t,0])\n",
    "df_plt['error_sqr'] = (x_obs[t,0] - Xpred[t,0])**2\n",
    "display(df_plt.head(25))\n",
    "fig1 = px.line(df_plt, x=\"time\", y=[\"raw\", \"pred\"], template=\"plotly_dark\")\n",
    "\n",
    "### Plot prediction errors\n",
    "fig2 = px.line(df_plt, x=\"time\", y=[\"error\"], template=\"plotly_dark\")\n",
    "\n",
    "### Plot diff residuals of actual series (for debugging)\n",
    "### If really just learning the diff, then this should equal prediction error\n",
    "fig2b = px.line(df_plt, x=\"time\", y=[\"diff_error\"], template=\"plotly_dark\")\n",
    "\n",
    "### Plot Kalman-estimated coefficient paths (coefs on lags)\n",
    "df_coefs = pd.DataFrame(Zpred[t,])\n",
    "df_coefs.columns = [\"l{}\".format(l) for l in range(1, df_coefs.shape[1]+1)]\n",
    "df_coefs = df_coefs.reset_index()\n",
    "fig3 = px.line(df_coefs, x=\"index\",\n",
    "               y=[c for c in df_coefs.columns if c != \"index\"], template=\"plotly_dark\")\n",
    "\n",
    "print(\"Error stats for {} lags: \".format(L))\n",
    "print(\"MSE: {}\\n\\n\".format(df_plt[['error_sqr']].mean()))\n",
    "print(df_plt[['error']].describe())\n",
    "display(fig1)\n",
    "display(fig2)\n",
    "# display(fig2b)\n",
    "display(fig3)"
   ]
  },
  {
   "cell_type": "markdown",
   "metadata": {},
   "source": [
    "So it does look like ARIMA-Kalman is basically just learning the difference of the time series. (I have verified that the values are not exactly the same.) To refine this, should do better tuning of the lags and perhaps of the $R_t, Q_t$ matrices."
   ]
  },
  {
   "cell_type": "markdown",
   "metadata": {},
   "source": [
    "CUSUM on randomly generated data"
   ]
  },
  {
   "cell_type": "code",
   "execution_count": 97,
   "metadata": {
    "scrolled": false
   },
   "outputs": [],
   "source": [
    "# \"\"\" Simple example of sequential CUSUM - working! \"\"\"\n",
    "# x = np.random.randn(300)/5\n",
    "# x[100:200] += np.arange(0, 4, 4/100)\n",
    "\n",
    "# \"\"\" Model setup \"\"\"\n",
    "\n",
    "# threshold = 1\n",
    "# drift = 0\n",
    "# gp, gn = np.zeros(x_obs.size), np.zeros(x_obs.size)\n",
    "# ta, tai, taf = np.array([[], [], []], dtype=int)\n",
    "# tap, tan = 0, 0\n",
    "# amp = np.array([])\n",
    "\n",
    "# \"\"\" Train sequentially \"\"\"\n",
    "\n",
    "# # timerange = range(L, n-1) # data starts at 0 so start analysis at L for L lags\n",
    "# timerange = range(len(x))\n",
    "# for i in timerange:\n",
    "#     if (i % 10000 == 0): print(\"Training observation {} / {} ...\".format(i+1, n-1))\n",
    "\n",
    "#     s = np.array(x[i]) - np.array(x[i-1])\n",
    "#     gp[i] = gp[i-1] + s - drift  # cumulative sum for + change\n",
    "#     gn[i] = gn[i-1] - s - drift  # cumulative sum for - change\n",
    "#     if gp[i] < 0:\n",
    "#         gp[i], tap = 0, i\n",
    "#     if gn[i] < 0:\n",
    "#         gn[i], tan = 0, i\n",
    "#     if gp[i] > threshold or gn[i] > threshold:  # change detected!\n",
    "#         ta = np.append(ta, i)    # alarm index\n",
    "#         tai = np.append(tai, tap if gp[i] > threshold else tan)  # start\n",
    "#         gp[i], gn[i] = 0, 0      # reset alarm\n",
    "#     # Your modeling code here\n",
    "\n",
    "# # plot\n",
    "# df_plt = pd.DataFrame({\n",
    "#     \"t\": timerange,\n",
    "#     \"x\": x\n",
    "# })\n",
    "# df_plt = pd.merge(df_plt, pd.DataFrame({\"t\": ta, \"break\": 1}), on=\"t\", how=\"left\").fillna(0)\n",
    "# fig = px.line(df_plt, x=\"t\", y=\"x\", template=\"plotly_dark\")\n",
    "# fig.add_scatter(x=df_plt['t'], y=df_plt['x'], mode=\"markers\", marker_color=df_plt['break'])\n",
    "# fig"
   ]
  },
  {
   "cell_type": "markdown",
   "metadata": {},
   "source": [
    "CUSUM on the raw series"
   ]
  },
  {
   "cell_type": "code",
   "execution_count": 100,
   "metadata": {},
   "outputs": [
    {
     "data": {
      "application/vnd.plotly.v1+json": {
       "config": {
        "plotlyServerURL": "https://plot.ly"
       },
       "data": [
        {
         "hovertemplate": "t=%{x}<br>x=%{y}<extra></extra>",
         "legendgroup": "",
         "line": {
          "color": "#636efa",
          "dash": "solid"
         },
         "mode": "lines",
         "name": "",
         "orientation": "v",
         "showlegend": false,
         "type": "scatter",
         "x": [
          14,
          15,
          16,
          17,
          18,
          19,
          20,
          21,
          22,
          23,
          24,
          25,
          26,
          27,
          28,
          29,
          30,
          31,
          32,
          33,
          34,
          35,
          36,
          37,
          38,
          39,
          40,
          41,
          42,
          43,
          44,
          45,
          46,
          47,
          48,
          49,
          50,
          51,
          52,
          53,
          54,
          55,
          56,
          57,
          58,
          59,
          60,
          61,
          62,
          63,
          64,
          65,
          66,
          67,
          68,
          69,
          70,
          71,
          72,
          73,
          74,
          75,
          76,
          77,
          78,
          79,
          80,
          81,
          82,
          83,
          84,
          85,
          86,
          87,
          88,
          89,
          90,
          91,
          92,
          93,
          94,
          95,
          96,
          97,
          98,
          99,
          100,
          101,
          102,
          103
         ],
         "xaxis": "x",
         "y": [
          66.42857142857143,
          70.14285714285714,
          67.77777777777777,
          66.33333333333333,
          68.14285714285714,
          64.375,
          65.55555555555556,
          65.0909090909091,
          61.5,
          60.5,
          68.25,
          68.61538461538461,
          65.11111111111111,
          65.7,
          68.2,
          69.22222222222223,
          71.85714285714286,
          69.375,
          67.44444444444444,
          68,
          62,
          50,
          71,
          66.3,
          67.72727272727273,
          71.33333333333333,
          70,
          70,
          62.36363636363637,
          63.75,
          63,
          60.25,
          62.3,
          62.75,
          59.333333333333336,
          69.75,
          71.81818181818181,
          60.6,
          68.55555555555556,
          67.77777777777777,
          70,
          64.875,
          67.28571428571429,
          64.55555555555556,
          66.44444444444444,
          64.7,
          60.375,
          68.42857142857143,
          67.5,
          66.8,
          66.5,
          66.16666666666667,
          68.33333333333333,
          70.57142857142857,
          70.125,
          71.66666666666667,
          66.6,
          68.16666666666667,
          61.5,
          50,
          67.16666666666667,
          69.1,
          66,
          64.25,
          63.66666666666666,
          63.55555555555556,
          64.11111111111111,
          65,
          57.625,
          59.77777777777778,
          59.375,
          63.875,
          60.25,
          65.42857142857143,
          67.55555555555556,
          68.85714285714286,
          67.25,
          66.85714285714286,
          64.83333333333333,
          62.4,
          66.57142857142857,
          64.66666666666667,
          57.6,
          70.28571428571429,
          66.125,
          69.875,
          67.27272727272727,
          63.77777777777778,
          61.375,
          60.66666666666666
         ],
         "yaxis": "y"
        },
        {
         "marker": {
          "color": [
           0,
           1,
           1,
           1,
           1,
           1,
           1,
           0,
           1,
           0,
           1,
           0,
           1,
           0,
           1,
           1,
           1,
           1,
           1,
           0,
           1,
           1,
           1,
           1,
           1,
           1,
           1,
           0,
           1,
           1,
           0,
           1,
           1,
           0,
           1,
           1,
           1,
           1,
           1,
           0,
           1,
           1,
           1,
           1,
           1,
           1,
           1,
           1,
           0,
           1,
           0,
           0,
           1,
           1,
           0,
           1,
           1,
           1,
           1,
           1,
           1,
           1,
           1,
           1,
           0,
           0,
           0,
           1,
           1,
           1,
           0,
           1,
           1,
           1,
           1,
           1,
           1,
           0,
           1,
           1,
           1,
           1,
           1,
           1,
           1,
           1,
           1,
           1,
           1,
           0
          ]
         },
         "mode": "markers",
         "type": "scatter",
         "x": [
          14,
          15,
          16,
          17,
          18,
          19,
          20,
          21,
          22,
          23,
          24,
          25,
          26,
          27,
          28,
          29,
          30,
          31,
          32,
          33,
          34,
          35,
          36,
          37,
          38,
          39,
          40,
          41,
          42,
          43,
          44,
          45,
          46,
          47,
          48,
          49,
          50,
          51,
          52,
          53,
          54,
          55,
          56,
          57,
          58,
          59,
          60,
          61,
          62,
          63,
          64,
          65,
          66,
          67,
          68,
          69,
          70,
          71,
          72,
          73,
          74,
          75,
          76,
          77,
          78,
          79,
          80,
          81,
          82,
          83,
          84,
          85,
          86,
          87,
          88,
          89,
          90,
          91,
          92,
          93,
          94,
          95,
          96,
          97,
          98,
          99,
          100,
          101,
          102,
          103
         ],
         "y": [
          66.42857142857143,
          70.14285714285714,
          67.77777777777777,
          66.33333333333333,
          68.14285714285714,
          64.375,
          65.55555555555556,
          65.0909090909091,
          61.5,
          60.5,
          68.25,
          68.61538461538461,
          65.11111111111111,
          65.7,
          68.2,
          69.22222222222223,
          71.85714285714286,
          69.375,
          67.44444444444444,
          68,
          62,
          50,
          71,
          66.3,
          67.72727272727273,
          71.33333333333333,
          70,
          70,
          62.36363636363637,
          63.75,
          63,
          60.25,
          62.3,
          62.75,
          59.333333333333336,
          69.75,
          71.81818181818181,
          60.6,
          68.55555555555556,
          67.77777777777777,
          70,
          64.875,
          67.28571428571429,
          64.55555555555556,
          66.44444444444444,
          64.7,
          60.375,
          68.42857142857143,
          67.5,
          66.8,
          66.5,
          66.16666666666667,
          68.33333333333333,
          70.57142857142857,
          70.125,
          71.66666666666667,
          66.6,
          68.16666666666667,
          61.5,
          50,
          67.16666666666667,
          69.1,
          66,
          64.25,
          63.66666666666666,
          63.55555555555556,
          64.11111111111111,
          65,
          57.625,
          59.77777777777778,
          59.375,
          63.875,
          60.25,
          65.42857142857143,
          67.55555555555556,
          68.85714285714286,
          67.25,
          66.85714285714286,
          64.83333333333333,
          62.4,
          66.57142857142857,
          64.66666666666667,
          57.6,
          70.28571428571429,
          66.125,
          69.875,
          67.27272727272727,
          63.77777777777778,
          61.375,
          60.66666666666666
         ]
        }
       ],
       "layout": {
        "legend": {
         "tracegroupgap": 0
        },
        "margin": {
         "t": 60
        },
        "template": {
         "data": {
          "bar": [
           {
            "error_x": {
             "color": "#f2f5fa"
            },
            "error_y": {
             "color": "#f2f5fa"
            },
            "marker": {
             "line": {
              "color": "rgb(17,17,17)",
              "width": 0.5
             }
            },
            "type": "bar"
           }
          ],
          "barpolar": [
           {
            "marker": {
             "line": {
              "color": "rgb(17,17,17)",
              "width": 0.5
             }
            },
            "type": "barpolar"
           }
          ],
          "carpet": [
           {
            "aaxis": {
             "endlinecolor": "#A2B1C6",
             "gridcolor": "#506784",
             "linecolor": "#506784",
             "minorgridcolor": "#506784",
             "startlinecolor": "#A2B1C6"
            },
            "baxis": {
             "endlinecolor": "#A2B1C6",
             "gridcolor": "#506784",
             "linecolor": "#506784",
             "minorgridcolor": "#506784",
             "startlinecolor": "#A2B1C6"
            },
            "type": "carpet"
           }
          ],
          "choropleth": [
           {
            "colorbar": {
             "outlinewidth": 0,
             "ticks": ""
            },
            "type": "choropleth"
           }
          ],
          "contour": [
           {
            "colorbar": {
             "outlinewidth": 0,
             "ticks": ""
            },
            "colorscale": [
             [
              0,
              "#0d0887"
             ],
             [
              0.1111111111111111,
              "#46039f"
             ],
             [
              0.2222222222222222,
              "#7201a8"
             ],
             [
              0.3333333333333333,
              "#9c179e"
             ],
             [
              0.4444444444444444,
              "#bd3786"
             ],
             [
              0.5555555555555556,
              "#d8576b"
             ],
             [
              0.6666666666666666,
              "#ed7953"
             ],
             [
              0.7777777777777778,
              "#fb9f3a"
             ],
             [
              0.8888888888888888,
              "#fdca26"
             ],
             [
              1,
              "#f0f921"
             ]
            ],
            "type": "contour"
           }
          ],
          "contourcarpet": [
           {
            "colorbar": {
             "outlinewidth": 0,
             "ticks": ""
            },
            "type": "contourcarpet"
           }
          ],
          "heatmap": [
           {
            "colorbar": {
             "outlinewidth": 0,
             "ticks": ""
            },
            "colorscale": [
             [
              0,
              "#0d0887"
             ],
             [
              0.1111111111111111,
              "#46039f"
             ],
             [
              0.2222222222222222,
              "#7201a8"
             ],
             [
              0.3333333333333333,
              "#9c179e"
             ],
             [
              0.4444444444444444,
              "#bd3786"
             ],
             [
              0.5555555555555556,
              "#d8576b"
             ],
             [
              0.6666666666666666,
              "#ed7953"
             ],
             [
              0.7777777777777778,
              "#fb9f3a"
             ],
             [
              0.8888888888888888,
              "#fdca26"
             ],
             [
              1,
              "#f0f921"
             ]
            ],
            "type": "heatmap"
           }
          ],
          "heatmapgl": [
           {
            "colorbar": {
             "outlinewidth": 0,
             "ticks": ""
            },
            "colorscale": [
             [
              0,
              "#0d0887"
             ],
             [
              0.1111111111111111,
              "#46039f"
             ],
             [
              0.2222222222222222,
              "#7201a8"
             ],
             [
              0.3333333333333333,
              "#9c179e"
             ],
             [
              0.4444444444444444,
              "#bd3786"
             ],
             [
              0.5555555555555556,
              "#d8576b"
             ],
             [
              0.6666666666666666,
              "#ed7953"
             ],
             [
              0.7777777777777778,
              "#fb9f3a"
             ],
             [
              0.8888888888888888,
              "#fdca26"
             ],
             [
              1,
              "#f0f921"
             ]
            ],
            "type": "heatmapgl"
           }
          ],
          "histogram": [
           {
            "marker": {
             "colorbar": {
              "outlinewidth": 0,
              "ticks": ""
             }
            },
            "type": "histogram"
           }
          ],
          "histogram2d": [
           {
            "colorbar": {
             "outlinewidth": 0,
             "ticks": ""
            },
            "colorscale": [
             [
              0,
              "#0d0887"
             ],
             [
              0.1111111111111111,
              "#46039f"
             ],
             [
              0.2222222222222222,
              "#7201a8"
             ],
             [
              0.3333333333333333,
              "#9c179e"
             ],
             [
              0.4444444444444444,
              "#bd3786"
             ],
             [
              0.5555555555555556,
              "#d8576b"
             ],
             [
              0.6666666666666666,
              "#ed7953"
             ],
             [
              0.7777777777777778,
              "#fb9f3a"
             ],
             [
              0.8888888888888888,
              "#fdca26"
             ],
             [
              1,
              "#f0f921"
             ]
            ],
            "type": "histogram2d"
           }
          ],
          "histogram2dcontour": [
           {
            "colorbar": {
             "outlinewidth": 0,
             "ticks": ""
            },
            "colorscale": [
             [
              0,
              "#0d0887"
             ],
             [
              0.1111111111111111,
              "#46039f"
             ],
             [
              0.2222222222222222,
              "#7201a8"
             ],
             [
              0.3333333333333333,
              "#9c179e"
             ],
             [
              0.4444444444444444,
              "#bd3786"
             ],
             [
              0.5555555555555556,
              "#d8576b"
             ],
             [
              0.6666666666666666,
              "#ed7953"
             ],
             [
              0.7777777777777778,
              "#fb9f3a"
             ],
             [
              0.8888888888888888,
              "#fdca26"
             ],
             [
              1,
              "#f0f921"
             ]
            ],
            "type": "histogram2dcontour"
           }
          ],
          "mesh3d": [
           {
            "colorbar": {
             "outlinewidth": 0,
             "ticks": ""
            },
            "type": "mesh3d"
           }
          ],
          "parcoords": [
           {
            "line": {
             "colorbar": {
              "outlinewidth": 0,
              "ticks": ""
             }
            },
            "type": "parcoords"
           }
          ],
          "pie": [
           {
            "automargin": true,
            "type": "pie"
           }
          ],
          "scatter": [
           {
            "marker": {
             "line": {
              "color": "#283442"
             }
            },
            "type": "scatter"
           }
          ],
          "scatter3d": [
           {
            "line": {
             "colorbar": {
              "outlinewidth": 0,
              "ticks": ""
             }
            },
            "marker": {
             "colorbar": {
              "outlinewidth": 0,
              "ticks": ""
             }
            },
            "type": "scatter3d"
           }
          ],
          "scattercarpet": [
           {
            "marker": {
             "colorbar": {
              "outlinewidth": 0,
              "ticks": ""
             }
            },
            "type": "scattercarpet"
           }
          ],
          "scattergeo": [
           {
            "marker": {
             "colorbar": {
              "outlinewidth": 0,
              "ticks": ""
             }
            },
            "type": "scattergeo"
           }
          ],
          "scattergl": [
           {
            "marker": {
             "line": {
              "color": "#283442"
             }
            },
            "type": "scattergl"
           }
          ],
          "scattermapbox": [
           {
            "marker": {
             "colorbar": {
              "outlinewidth": 0,
              "ticks": ""
             }
            },
            "type": "scattermapbox"
           }
          ],
          "scatterpolar": [
           {
            "marker": {
             "colorbar": {
              "outlinewidth": 0,
              "ticks": ""
             }
            },
            "type": "scatterpolar"
           }
          ],
          "scatterpolargl": [
           {
            "marker": {
             "colorbar": {
              "outlinewidth": 0,
              "ticks": ""
             }
            },
            "type": "scatterpolargl"
           }
          ],
          "scatterternary": [
           {
            "marker": {
             "colorbar": {
              "outlinewidth": 0,
              "ticks": ""
             }
            },
            "type": "scatterternary"
           }
          ],
          "surface": [
           {
            "colorbar": {
             "outlinewidth": 0,
             "ticks": ""
            },
            "colorscale": [
             [
              0,
              "#0d0887"
             ],
             [
              0.1111111111111111,
              "#46039f"
             ],
             [
              0.2222222222222222,
              "#7201a8"
             ],
             [
              0.3333333333333333,
              "#9c179e"
             ],
             [
              0.4444444444444444,
              "#bd3786"
             ],
             [
              0.5555555555555556,
              "#d8576b"
             ],
             [
              0.6666666666666666,
              "#ed7953"
             ],
             [
              0.7777777777777778,
              "#fb9f3a"
             ],
             [
              0.8888888888888888,
              "#fdca26"
             ],
             [
              1,
              "#f0f921"
             ]
            ],
            "type": "surface"
           }
          ],
          "table": [
           {
            "cells": {
             "fill": {
              "color": "#506784"
             },
             "line": {
              "color": "rgb(17,17,17)"
             }
            },
            "header": {
             "fill": {
              "color": "#2a3f5f"
             },
             "line": {
              "color": "rgb(17,17,17)"
             }
            },
            "type": "table"
           }
          ]
         },
         "layout": {
          "annotationdefaults": {
           "arrowcolor": "#f2f5fa",
           "arrowhead": 0,
           "arrowwidth": 1
          },
          "autotypenumbers": "strict",
          "coloraxis": {
           "colorbar": {
            "outlinewidth": 0,
            "ticks": ""
           }
          },
          "colorscale": {
           "diverging": [
            [
             0,
             "#8e0152"
            ],
            [
             0.1,
             "#c51b7d"
            ],
            [
             0.2,
             "#de77ae"
            ],
            [
             0.3,
             "#f1b6da"
            ],
            [
             0.4,
             "#fde0ef"
            ],
            [
             0.5,
             "#f7f7f7"
            ],
            [
             0.6,
             "#e6f5d0"
            ],
            [
             0.7,
             "#b8e186"
            ],
            [
             0.8,
             "#7fbc41"
            ],
            [
             0.9,
             "#4d9221"
            ],
            [
             1,
             "#276419"
            ]
           ],
           "sequential": [
            [
             0,
             "#0d0887"
            ],
            [
             0.1111111111111111,
             "#46039f"
            ],
            [
             0.2222222222222222,
             "#7201a8"
            ],
            [
             0.3333333333333333,
             "#9c179e"
            ],
            [
             0.4444444444444444,
             "#bd3786"
            ],
            [
             0.5555555555555556,
             "#d8576b"
            ],
            [
             0.6666666666666666,
             "#ed7953"
            ],
            [
             0.7777777777777778,
             "#fb9f3a"
            ],
            [
             0.8888888888888888,
             "#fdca26"
            ],
            [
             1,
             "#f0f921"
            ]
           ],
           "sequentialminus": [
            [
             0,
             "#0d0887"
            ],
            [
             0.1111111111111111,
             "#46039f"
            ],
            [
             0.2222222222222222,
             "#7201a8"
            ],
            [
             0.3333333333333333,
             "#9c179e"
            ],
            [
             0.4444444444444444,
             "#bd3786"
            ],
            [
             0.5555555555555556,
             "#d8576b"
            ],
            [
             0.6666666666666666,
             "#ed7953"
            ],
            [
             0.7777777777777778,
             "#fb9f3a"
            ],
            [
             0.8888888888888888,
             "#fdca26"
            ],
            [
             1,
             "#f0f921"
            ]
           ]
          },
          "colorway": [
           "#636efa",
           "#EF553B",
           "#00cc96",
           "#ab63fa",
           "#FFA15A",
           "#19d3f3",
           "#FF6692",
           "#B6E880",
           "#FF97FF",
           "#FECB52"
          ],
          "font": {
           "color": "#f2f5fa"
          },
          "geo": {
           "bgcolor": "rgb(17,17,17)",
           "lakecolor": "rgb(17,17,17)",
           "landcolor": "rgb(17,17,17)",
           "showlakes": true,
           "showland": true,
           "subunitcolor": "#506784"
          },
          "hoverlabel": {
           "align": "left"
          },
          "hovermode": "closest",
          "mapbox": {
           "style": "dark"
          },
          "paper_bgcolor": "rgb(17,17,17)",
          "plot_bgcolor": "rgb(17,17,17)",
          "polar": {
           "angularaxis": {
            "gridcolor": "#506784",
            "linecolor": "#506784",
            "ticks": ""
           },
           "bgcolor": "rgb(17,17,17)",
           "radialaxis": {
            "gridcolor": "#506784",
            "linecolor": "#506784",
            "ticks": ""
           }
          },
          "scene": {
           "xaxis": {
            "backgroundcolor": "rgb(17,17,17)",
            "gridcolor": "#506784",
            "gridwidth": 2,
            "linecolor": "#506784",
            "showbackground": true,
            "ticks": "",
            "zerolinecolor": "#C8D4E3"
           },
           "yaxis": {
            "backgroundcolor": "rgb(17,17,17)",
            "gridcolor": "#506784",
            "gridwidth": 2,
            "linecolor": "#506784",
            "showbackground": true,
            "ticks": "",
            "zerolinecolor": "#C8D4E3"
           },
           "zaxis": {
            "backgroundcolor": "rgb(17,17,17)",
            "gridcolor": "#506784",
            "gridwidth": 2,
            "linecolor": "#506784",
            "showbackground": true,
            "ticks": "",
            "zerolinecolor": "#C8D4E3"
           }
          },
          "shapedefaults": {
           "line": {
            "color": "#f2f5fa"
           }
          },
          "sliderdefaults": {
           "bgcolor": "#C8D4E3",
           "bordercolor": "rgb(17,17,17)",
           "borderwidth": 1,
           "tickwidth": 0
          },
          "ternary": {
           "aaxis": {
            "gridcolor": "#506784",
            "linecolor": "#506784",
            "ticks": ""
           },
           "baxis": {
            "gridcolor": "#506784",
            "linecolor": "#506784",
            "ticks": ""
           },
           "bgcolor": "rgb(17,17,17)",
           "caxis": {
            "gridcolor": "#506784",
            "linecolor": "#506784",
            "ticks": ""
           }
          },
          "title": {
           "x": 0.05
          },
          "updatemenudefaults": {
           "bgcolor": "#506784",
           "borderwidth": 0
          },
          "xaxis": {
           "automargin": true,
           "gridcolor": "#283442",
           "linecolor": "#506784",
           "ticks": "",
           "title": {
            "standoff": 15
           },
           "zerolinecolor": "#283442",
           "zerolinewidth": 2
          },
          "yaxis": {
           "automargin": true,
           "gridcolor": "#283442",
           "linecolor": "#506784",
           "ticks": "",
           "title": {
            "standoff": 15
           },
           "zerolinecolor": "#283442",
           "zerolinewidth": 2
          }
         }
        },
        "xaxis": {
         "anchor": "y",
         "domain": [
          0,
          1
         ],
         "title": {
          "text": "t"
         }
        },
        "yaxis": {
         "anchor": "x",
         "domain": [
          0,
          1
         ],
         "title": {
          "text": "x"
         }
        }
       }
      },
      "text/html": [
       "<div>                            <div id=\"3f6a37ee-2745-4ea6-90c2-7e4228683a3f\" class=\"plotly-graph-div\" style=\"height:525px; width:100%;\"></div>            <script type=\"text/javascript\">                require([\"plotly\"], function(Plotly) {                    window.PLOTLYENV=window.PLOTLYENV || {};                                    if (document.getElementById(\"3f6a37ee-2745-4ea6-90c2-7e4228683a3f\")) {                    Plotly.newPlot(                        \"3f6a37ee-2745-4ea6-90c2-7e4228683a3f\",                        [{\"hovertemplate\": \"t=%{x}<br>x=%{y}<extra></extra>\", \"legendgroup\": \"\", \"line\": {\"color\": \"#636efa\", \"dash\": \"solid\"}, \"mode\": \"lines\", \"name\": \"\", \"orientation\": \"v\", \"showlegend\": false, \"type\": \"scatter\", \"x\": [14, 15, 16, 17, 18, 19, 20, 21, 22, 23, 24, 25, 26, 27, 28, 29, 30, 31, 32, 33, 34, 35, 36, 37, 38, 39, 40, 41, 42, 43, 44, 45, 46, 47, 48, 49, 50, 51, 52, 53, 54, 55, 56, 57, 58, 59, 60, 61, 62, 63, 64, 65, 66, 67, 68, 69, 70, 71, 72, 73, 74, 75, 76, 77, 78, 79, 80, 81, 82, 83, 84, 85, 86, 87, 88, 89, 90, 91, 92, 93, 94, 95, 96, 97, 98, 99, 100, 101, 102, 103], \"xaxis\": \"x\", \"y\": [66.42857142857143, 70.14285714285714, 67.77777777777777, 66.33333333333333, 68.14285714285714, 64.375, 65.55555555555556, 65.0909090909091, 61.5, 60.5, 68.25, 68.61538461538461, 65.11111111111111, 65.7, 68.2, 69.22222222222223, 71.85714285714286, 69.375, 67.44444444444444, 68.0, 62.0, 50.0, 71.0, 66.3, 67.72727272727273, 71.33333333333333, 70.0, 70.0, 62.36363636363637, 63.75, 63.0, 60.25, 62.3, 62.75, 59.333333333333336, 69.75, 71.81818181818181, 60.6, 68.55555555555556, 67.77777777777777, 70.0, 64.875, 67.28571428571429, 64.55555555555556, 66.44444444444444, 64.7, 60.375, 68.42857142857143, 67.5, 66.8, 66.5, 66.16666666666667, 68.33333333333333, 70.57142857142857, 70.125, 71.66666666666667, 66.6, 68.16666666666667, 61.5, 50.0, 67.16666666666667, 69.1, 66.0, 64.25, 63.66666666666666, 63.55555555555556, 64.11111111111111, 65.0, 57.625, 59.77777777777778, 59.375, 63.875, 60.25, 65.42857142857143, 67.55555555555556, 68.85714285714286, 67.25, 66.85714285714286, 64.83333333333333, 62.4, 66.57142857142857, 64.66666666666667, 57.6, 70.28571428571429, 66.125, 69.875, 67.27272727272727, 63.77777777777778, 61.375, 60.66666666666666], \"yaxis\": \"y\"}, {\"marker\": {\"color\": [0.0, 1.0, 1.0, 1.0, 1.0, 1.0, 1.0, 0.0, 1.0, 0.0, 1.0, 0.0, 1.0, 0.0, 1.0, 1.0, 1.0, 1.0, 1.0, 0.0, 1.0, 1.0, 1.0, 1.0, 1.0, 1.0, 1.0, 0.0, 1.0, 1.0, 0.0, 1.0, 1.0, 0.0, 1.0, 1.0, 1.0, 1.0, 1.0, 0.0, 1.0, 1.0, 1.0, 1.0, 1.0, 1.0, 1.0, 1.0, 0.0, 1.0, 0.0, 0.0, 1.0, 1.0, 0.0, 1.0, 1.0, 1.0, 1.0, 1.0, 1.0, 1.0, 1.0, 1.0, 0.0, 0.0, 0.0, 1.0, 1.0, 1.0, 0.0, 1.0, 1.0, 1.0, 1.0, 1.0, 1.0, 0.0, 1.0, 1.0, 1.0, 1.0, 1.0, 1.0, 1.0, 1.0, 1.0, 1.0, 1.0, 0.0]}, \"mode\": \"markers\", \"type\": \"scatter\", \"x\": [14, 15, 16, 17, 18, 19, 20, 21, 22, 23, 24, 25, 26, 27, 28, 29, 30, 31, 32, 33, 34, 35, 36, 37, 38, 39, 40, 41, 42, 43, 44, 45, 46, 47, 48, 49, 50, 51, 52, 53, 54, 55, 56, 57, 58, 59, 60, 61, 62, 63, 64, 65, 66, 67, 68, 69, 70, 71, 72, 73, 74, 75, 76, 77, 78, 79, 80, 81, 82, 83, 84, 85, 86, 87, 88, 89, 90, 91, 92, 93, 94, 95, 96, 97, 98, 99, 100, 101, 102, 103], \"y\": [66.42857142857143, 70.14285714285714, 67.77777777777777, 66.33333333333333, 68.14285714285714, 64.375, 65.55555555555556, 65.0909090909091, 61.5, 60.5, 68.25, 68.61538461538461, 65.11111111111111, 65.7, 68.2, 69.22222222222223, 71.85714285714286, 69.375, 67.44444444444444, 68.0, 62.0, 50.0, 71.0, 66.3, 67.72727272727273, 71.33333333333333, 70.0, 70.0, 62.36363636363637, 63.75, 63.0, 60.25, 62.3, 62.75, 59.333333333333336, 69.75, 71.81818181818181, 60.6, 68.55555555555556, 67.77777777777777, 70.0, 64.875, 67.28571428571429, 64.55555555555556, 66.44444444444444, 64.7, 60.375, 68.42857142857143, 67.5, 66.8, 66.5, 66.16666666666667, 68.33333333333333, 70.57142857142857, 70.125, 71.66666666666667, 66.6, 68.16666666666667, 61.5, 50.0, 67.16666666666667, 69.1, 66.0, 64.25, 63.66666666666666, 63.55555555555556, 64.11111111111111, 65.0, 57.625, 59.77777777777778, 59.375, 63.875, 60.25, 65.42857142857143, 67.55555555555556, 68.85714285714286, 67.25, 66.85714285714286, 64.83333333333333, 62.4, 66.57142857142857, 64.66666666666667, 57.6, 70.28571428571429, 66.125, 69.875, 67.27272727272727, 63.77777777777778, 61.375, 60.66666666666666]}],                        {\"legend\": {\"tracegroupgap\": 0}, \"margin\": {\"t\": 60}, \"template\": {\"data\": {\"bar\": [{\"error_x\": {\"color\": \"#f2f5fa\"}, \"error_y\": {\"color\": \"#f2f5fa\"}, \"marker\": {\"line\": {\"color\": \"rgb(17,17,17)\", \"width\": 0.5}}, \"type\": \"bar\"}], \"barpolar\": [{\"marker\": {\"line\": {\"color\": \"rgb(17,17,17)\", \"width\": 0.5}}, \"type\": \"barpolar\"}], \"carpet\": [{\"aaxis\": {\"endlinecolor\": \"#A2B1C6\", \"gridcolor\": \"#506784\", \"linecolor\": \"#506784\", \"minorgridcolor\": \"#506784\", \"startlinecolor\": \"#A2B1C6\"}, \"baxis\": {\"endlinecolor\": \"#A2B1C6\", \"gridcolor\": \"#506784\", \"linecolor\": \"#506784\", \"minorgridcolor\": \"#506784\", \"startlinecolor\": \"#A2B1C6\"}, \"type\": \"carpet\"}], \"choropleth\": [{\"colorbar\": {\"outlinewidth\": 0, \"ticks\": \"\"}, \"type\": \"choropleth\"}], \"contour\": [{\"colorbar\": {\"outlinewidth\": 0, \"ticks\": \"\"}, \"colorscale\": [[0.0, \"#0d0887\"], [0.1111111111111111, \"#46039f\"], [0.2222222222222222, \"#7201a8\"], [0.3333333333333333, \"#9c179e\"], [0.4444444444444444, \"#bd3786\"], [0.5555555555555556, \"#d8576b\"], [0.6666666666666666, \"#ed7953\"], [0.7777777777777778, \"#fb9f3a\"], [0.8888888888888888, \"#fdca26\"], [1.0, \"#f0f921\"]], \"type\": \"contour\"}], \"contourcarpet\": [{\"colorbar\": {\"outlinewidth\": 0, \"ticks\": \"\"}, \"type\": \"contourcarpet\"}], \"heatmap\": [{\"colorbar\": {\"outlinewidth\": 0, \"ticks\": \"\"}, \"colorscale\": [[0.0, \"#0d0887\"], [0.1111111111111111, \"#46039f\"], [0.2222222222222222, \"#7201a8\"], [0.3333333333333333, \"#9c179e\"], [0.4444444444444444, \"#bd3786\"], [0.5555555555555556, \"#d8576b\"], [0.6666666666666666, \"#ed7953\"], [0.7777777777777778, \"#fb9f3a\"], [0.8888888888888888, \"#fdca26\"], [1.0, \"#f0f921\"]], \"type\": \"heatmap\"}], \"heatmapgl\": [{\"colorbar\": {\"outlinewidth\": 0, \"ticks\": \"\"}, \"colorscale\": [[0.0, \"#0d0887\"], [0.1111111111111111, \"#46039f\"], [0.2222222222222222, \"#7201a8\"], [0.3333333333333333, \"#9c179e\"], [0.4444444444444444, \"#bd3786\"], [0.5555555555555556, \"#d8576b\"], [0.6666666666666666, \"#ed7953\"], [0.7777777777777778, \"#fb9f3a\"], [0.8888888888888888, \"#fdca26\"], [1.0, \"#f0f921\"]], \"type\": \"heatmapgl\"}], \"histogram\": [{\"marker\": {\"colorbar\": {\"outlinewidth\": 0, \"ticks\": \"\"}}, \"type\": \"histogram\"}], \"histogram2d\": [{\"colorbar\": {\"outlinewidth\": 0, \"ticks\": \"\"}, \"colorscale\": [[0.0, \"#0d0887\"], [0.1111111111111111, \"#46039f\"], [0.2222222222222222, \"#7201a8\"], [0.3333333333333333, \"#9c179e\"], [0.4444444444444444, \"#bd3786\"], [0.5555555555555556, \"#d8576b\"], [0.6666666666666666, \"#ed7953\"], [0.7777777777777778, \"#fb9f3a\"], [0.8888888888888888, \"#fdca26\"], [1.0, \"#f0f921\"]], \"type\": \"histogram2d\"}], \"histogram2dcontour\": [{\"colorbar\": {\"outlinewidth\": 0, \"ticks\": \"\"}, \"colorscale\": [[0.0, \"#0d0887\"], [0.1111111111111111, \"#46039f\"], [0.2222222222222222, \"#7201a8\"], [0.3333333333333333, \"#9c179e\"], [0.4444444444444444, \"#bd3786\"], [0.5555555555555556, \"#d8576b\"], [0.6666666666666666, \"#ed7953\"], [0.7777777777777778, \"#fb9f3a\"], [0.8888888888888888, \"#fdca26\"], [1.0, \"#f0f921\"]], \"type\": \"histogram2dcontour\"}], \"mesh3d\": [{\"colorbar\": {\"outlinewidth\": 0, \"ticks\": \"\"}, \"type\": \"mesh3d\"}], \"parcoords\": [{\"line\": {\"colorbar\": {\"outlinewidth\": 0, \"ticks\": \"\"}}, \"type\": \"parcoords\"}], \"pie\": [{\"automargin\": true, \"type\": \"pie\"}], \"scatter\": [{\"marker\": {\"line\": {\"color\": \"#283442\"}}, \"type\": \"scatter\"}], \"scatter3d\": [{\"line\": {\"colorbar\": {\"outlinewidth\": 0, \"ticks\": \"\"}}, \"marker\": {\"colorbar\": {\"outlinewidth\": 0, \"ticks\": \"\"}}, \"type\": \"scatter3d\"}], \"scattercarpet\": [{\"marker\": {\"colorbar\": {\"outlinewidth\": 0, \"ticks\": \"\"}}, \"type\": \"scattercarpet\"}], \"scattergeo\": [{\"marker\": {\"colorbar\": {\"outlinewidth\": 0, \"ticks\": \"\"}}, \"type\": \"scattergeo\"}], \"scattergl\": [{\"marker\": {\"line\": {\"color\": \"#283442\"}}, \"type\": \"scattergl\"}], \"scattermapbox\": [{\"marker\": {\"colorbar\": {\"outlinewidth\": 0, \"ticks\": \"\"}}, \"type\": \"scattermapbox\"}], \"scatterpolar\": [{\"marker\": {\"colorbar\": {\"outlinewidth\": 0, \"ticks\": \"\"}}, \"type\": \"scatterpolar\"}], \"scatterpolargl\": [{\"marker\": {\"colorbar\": {\"outlinewidth\": 0, \"ticks\": \"\"}}, \"type\": \"scatterpolargl\"}], \"scatterternary\": [{\"marker\": {\"colorbar\": {\"outlinewidth\": 0, \"ticks\": \"\"}}, \"type\": \"scatterternary\"}], \"surface\": [{\"colorbar\": {\"outlinewidth\": 0, \"ticks\": \"\"}, \"colorscale\": [[0.0, \"#0d0887\"], [0.1111111111111111, \"#46039f\"], [0.2222222222222222, \"#7201a8\"], [0.3333333333333333, \"#9c179e\"], [0.4444444444444444, \"#bd3786\"], [0.5555555555555556, \"#d8576b\"], [0.6666666666666666, \"#ed7953\"], [0.7777777777777778, \"#fb9f3a\"], [0.8888888888888888, \"#fdca26\"], [1.0, \"#f0f921\"]], \"type\": \"surface\"}], \"table\": [{\"cells\": {\"fill\": {\"color\": \"#506784\"}, \"line\": {\"color\": \"rgb(17,17,17)\"}}, \"header\": {\"fill\": {\"color\": \"#2a3f5f\"}, \"line\": {\"color\": \"rgb(17,17,17)\"}}, \"type\": \"table\"}]}, \"layout\": {\"annotationdefaults\": {\"arrowcolor\": \"#f2f5fa\", \"arrowhead\": 0, \"arrowwidth\": 1}, \"autotypenumbers\": \"strict\", \"coloraxis\": {\"colorbar\": {\"outlinewidth\": 0, \"ticks\": \"\"}}, \"colorscale\": {\"diverging\": [[0, \"#8e0152\"], [0.1, \"#c51b7d\"], [0.2, \"#de77ae\"], [0.3, \"#f1b6da\"], [0.4, \"#fde0ef\"], [0.5, \"#f7f7f7\"], [0.6, \"#e6f5d0\"], [0.7, \"#b8e186\"], [0.8, \"#7fbc41\"], [0.9, \"#4d9221\"], [1, \"#276419\"]], \"sequential\": [[0.0, \"#0d0887\"], [0.1111111111111111, \"#46039f\"], [0.2222222222222222, \"#7201a8\"], [0.3333333333333333, \"#9c179e\"], [0.4444444444444444, \"#bd3786\"], [0.5555555555555556, \"#d8576b\"], [0.6666666666666666, \"#ed7953\"], [0.7777777777777778, \"#fb9f3a\"], [0.8888888888888888, \"#fdca26\"], [1.0, \"#f0f921\"]], \"sequentialminus\": [[0.0, \"#0d0887\"], [0.1111111111111111, \"#46039f\"], [0.2222222222222222, \"#7201a8\"], [0.3333333333333333, \"#9c179e\"], [0.4444444444444444, \"#bd3786\"], [0.5555555555555556, \"#d8576b\"], [0.6666666666666666, \"#ed7953\"], [0.7777777777777778, \"#fb9f3a\"], [0.8888888888888888, \"#fdca26\"], [1.0, \"#f0f921\"]]}, \"colorway\": [\"#636efa\", \"#EF553B\", \"#00cc96\", \"#ab63fa\", \"#FFA15A\", \"#19d3f3\", \"#FF6692\", \"#B6E880\", \"#FF97FF\", \"#FECB52\"], \"font\": {\"color\": \"#f2f5fa\"}, \"geo\": {\"bgcolor\": \"rgb(17,17,17)\", \"lakecolor\": \"rgb(17,17,17)\", \"landcolor\": \"rgb(17,17,17)\", \"showlakes\": true, \"showland\": true, \"subunitcolor\": \"#506784\"}, \"hoverlabel\": {\"align\": \"left\"}, \"hovermode\": \"closest\", \"mapbox\": {\"style\": \"dark\"}, \"paper_bgcolor\": \"rgb(17,17,17)\", \"plot_bgcolor\": \"rgb(17,17,17)\", \"polar\": {\"angularaxis\": {\"gridcolor\": \"#506784\", \"linecolor\": \"#506784\", \"ticks\": \"\"}, \"bgcolor\": \"rgb(17,17,17)\", \"radialaxis\": {\"gridcolor\": \"#506784\", \"linecolor\": \"#506784\", \"ticks\": \"\"}}, \"scene\": {\"xaxis\": {\"backgroundcolor\": \"rgb(17,17,17)\", \"gridcolor\": \"#506784\", \"gridwidth\": 2, \"linecolor\": \"#506784\", \"showbackground\": true, \"ticks\": \"\", \"zerolinecolor\": \"#C8D4E3\"}, \"yaxis\": {\"backgroundcolor\": \"rgb(17,17,17)\", \"gridcolor\": \"#506784\", \"gridwidth\": 2, \"linecolor\": \"#506784\", \"showbackground\": true, \"ticks\": \"\", \"zerolinecolor\": \"#C8D4E3\"}, \"zaxis\": {\"backgroundcolor\": \"rgb(17,17,17)\", \"gridcolor\": \"#506784\", \"gridwidth\": 2, \"linecolor\": \"#506784\", \"showbackground\": true, \"ticks\": \"\", \"zerolinecolor\": \"#C8D4E3\"}}, \"shapedefaults\": {\"line\": {\"color\": \"#f2f5fa\"}}, \"sliderdefaults\": {\"bgcolor\": \"#C8D4E3\", \"bordercolor\": \"rgb(17,17,17)\", \"borderwidth\": 1, \"tickwidth\": 0}, \"ternary\": {\"aaxis\": {\"gridcolor\": \"#506784\", \"linecolor\": \"#506784\", \"ticks\": \"\"}, \"baxis\": {\"gridcolor\": \"#506784\", \"linecolor\": \"#506784\", \"ticks\": \"\"}, \"bgcolor\": \"rgb(17,17,17)\", \"caxis\": {\"gridcolor\": \"#506784\", \"linecolor\": \"#506784\", \"ticks\": \"\"}}, \"title\": {\"x\": 0.05}, \"updatemenudefaults\": {\"bgcolor\": \"#506784\", \"borderwidth\": 0}, \"xaxis\": {\"automargin\": true, \"gridcolor\": \"#283442\", \"linecolor\": \"#506784\", \"ticks\": \"\", \"title\": {\"standoff\": 15}, \"zerolinecolor\": \"#283442\", \"zerolinewidth\": 2}, \"yaxis\": {\"automargin\": true, \"gridcolor\": \"#283442\", \"linecolor\": \"#506784\", \"ticks\": \"\", \"title\": {\"standoff\": 15}, \"zerolinecolor\": \"#283442\", \"zerolinewidth\": 2}}}, \"xaxis\": {\"anchor\": \"y\", \"domain\": [0.0, 1.0], \"title\": {\"text\": \"t\"}}, \"yaxis\": {\"anchor\": \"x\", \"domain\": [0.0, 1.0], \"title\": {\"text\": \"x\"}}},                        {\"responsive\": true}                    ).then(function(){\n",
       "                            \n",
       "var gd = document.getElementById('3f6a37ee-2745-4ea6-90c2-7e4228683a3f');\n",
       "var x = new MutationObserver(function (mutations, observer) {{\n",
       "        var display = window.getComputedStyle(gd).display;\n",
       "        if (!display || display === 'none') {{\n",
       "            console.log([gd, 'removed!']);\n",
       "            Plotly.purge(gd);\n",
       "            observer.disconnect();\n",
       "        }}\n",
       "}});\n",
       "\n",
       "// Listen for the removal of the full notebook cells\n",
       "var notebookContainer = gd.closest('#notebook-container');\n",
       "if (notebookContainer) {{\n",
       "    x.observe(notebookContainer, {childList: true});\n",
       "}}\n",
       "\n",
       "// Listen for the clearing of the current output cell\n",
       "var outputEl = gd.closest('.output');\n",
       "if (outputEl) {{\n",
       "    x.observe(outputEl, {childList: true});\n",
       "}}\n",
       "\n",
       "                        })                };                });            </script>        </div>"
      ]
     },
     "metadata": {},
     "output_type": "display_data"
    }
   ],
   "source": [
    "\n",
    "x = x_obs.flatten()\n",
    "\n",
    "\"\"\" Model setup \"\"\"\n",
    "\n",
    "threshold = 1\n",
    "drift = 0\n",
    "gp, gn = np.zeros(x.size), np.zeros(x.size)\n",
    "ta, tai, taf = np.array([[], [], []], dtype=int)\n",
    "tap, tan = 0, 0\n",
    "amp = np.array([])\n",
    "\n",
    "\"\"\" Train sequentially \"\"\"\n",
    "# timerange = range(L, n-1) # data starts at 0 so start analysis at L for L lags\n",
    "timerange = range(L, L + 90)\n",
    "for i in timerange:\n",
    "    if (i % 10000 == 0): print(\"Training observation {} / {} ...\".format(i+1, n-1))\n",
    "    s = np.array(x[i]) - np.array(x[i-1])\n",
    "    gp[i] = gp[i-1] + s - drift  # cumulative sum for + change\n",
    "    gn[i] = gn[i-1] - s - drift  # cumulative sum for - change\n",
    "    if gp[i] < 0:\n",
    "        gp[i], tap = 0, i\n",
    "    if gn[i] < 0:\n",
    "        gn[i], tan = 0, i\n",
    "    if gp[i] > threshold or gn[i] > threshold:  # change detected!\n",
    "        ta = np.append(ta, i)    # alarm index\n",
    "        tai = np.append(tai, tap if gp[i] > threshold else tan)  # start\n",
    "        gp[i], gn[i] = 0, 0      # reset alarm\n",
    "    # Your modeling code here\n",
    "    \n",
    "\"\"\" Plot \"\"\"\n",
    "df_plt = pd.DataFrame({\n",
    "    \"t\": timerange,\n",
    "    \"x\": x[timerange]\n",
    "})\n",
    "df_plt = pd.merge(df_plt, pd.DataFrame({\"t\": ta, \"break\": 1}), on=\"t\", how=\"left\").fillna(0)\n",
    "fig = px.line(df_plt, x=\"t\", y=\"x\", template=\"plotly_dark\")\n",
    "fig.add_scatter(x=df_plt['t'], y=df_plt['x'], mode=\"markers\", marker_color=df_plt['break'])\n",
    "fig"
   ]
  },
  {
   "cell_type": "markdown",
   "metadata": {},
   "source": [
    "So clearly it should be better to do as high-quality prediction (regression) as possible then do CUSUM on the residuals. Focus on the prediction part first w/CUSUM, then do other change detection algos later if time."
   ]
  },
  {
   "cell_type": "markdown",
   "metadata": {},
   "source": [
    "### Model 2: Bayesian regression + CUSUM on the residuals\n",
    "\n",
    "Sequential as usual."
   ]
  },
  {
   "cell_type": "code",
   "execution_count": 98,
   "metadata": {
    "scrolled": false
   },
   "outputs": [
    {
     "data": {
      "application/vnd.plotly.v1+json": {
       "config": {
        "plotlyServerURL": "https://plot.ly"
       },
       "data": [
        {
         "hovertemplate": "t=%{x}<br>x=%{y}<extra></extra>",
         "legendgroup": "",
         "line": {
          "color": "#636efa",
          "dash": "solid"
         },
         "mode": "lines",
         "name": "",
         "orientation": "v",
         "showlegend": false,
         "type": "scatter",
         "x": [
          14,
          15,
          16,
          17,
          18,
          19,
          20,
          21,
          22,
          23,
          24,
          25,
          26,
          27,
          28,
          29,
          30,
          31,
          32,
          33,
          34,
          35,
          36,
          37,
          38,
          39,
          40,
          41,
          42,
          43,
          44,
          45,
          46,
          47,
          48,
          49,
          50,
          51,
          52,
          53,
          54,
          55,
          56,
          57,
          58,
          59,
          60,
          61,
          62,
          63,
          64,
          65,
          66,
          67,
          68,
          69,
          70,
          71,
          72,
          73,
          74,
          75,
          76,
          77,
          78,
          79,
          80,
          81,
          82,
          83,
          84,
          85,
          86,
          87,
          88,
          89,
          90,
          91,
          92,
          93,
          94,
          95,
          96,
          97,
          98,
          99,
          100,
          101,
          102,
          103
         ],
         "xaxis": "x",
         "y": [
          66.42857142857143,
          70.14285714285714,
          67.77777777777777,
          66.33333333333333,
          68.14285714285714,
          64.375,
          65.55555555555556,
          65.0909090909091,
          61.5,
          60.5,
          68.25,
          68.61538461538461,
          65.11111111111111,
          65.7,
          68.2,
          69.22222222222223,
          71.85714285714286,
          69.375,
          67.44444444444444,
          68,
          62,
          50,
          71,
          66.3,
          67.72727272727273,
          71.33333333333333,
          70,
          70,
          62.36363636363637,
          63.75,
          63,
          60.25,
          62.3,
          62.75,
          59.333333333333336,
          69.75,
          71.81818181818181,
          60.6,
          68.55555555555556,
          67.77777777777777,
          70,
          64.875,
          67.28571428571429,
          64.55555555555556,
          66.44444444444444,
          64.7,
          60.375,
          68.42857142857143,
          67.5,
          66.8,
          66.5,
          66.16666666666667,
          68.33333333333333,
          70.57142857142857,
          70.125,
          71.66666666666667,
          66.6,
          68.16666666666667,
          61.5,
          50,
          67.16666666666667,
          69.1,
          66,
          64.25,
          63.66666666666666,
          63.55555555555556,
          64.11111111111111,
          65,
          57.625,
          59.77777777777778,
          59.375,
          63.875,
          60.25,
          65.42857142857143,
          67.55555555555556,
          68.85714285714286,
          67.25,
          66.85714285714286,
          64.83333333333333,
          62.4,
          66.57142857142857,
          64.66666666666667,
          57.6,
          70.28571428571429,
          66.125,
          69.875,
          67.27272727272727,
          63.77777777777778,
          61.375,
          60.66666666666666
         ],
         "yaxis": "y"
        },
        {
         "marker": {
          "color": [
           0,
           1,
           1,
           1,
           1,
           1,
           1,
           0,
           1,
           0,
           1,
           0,
           1,
           0,
           1,
           1,
           1,
           1,
           1,
           0,
           1,
           1,
           1,
           1,
           1,
           1,
           1,
           0,
           1,
           1,
           0,
           1,
           1,
           0,
           1,
           1,
           1,
           1,
           1,
           0,
           1,
           1,
           1,
           1,
           1,
           1,
           1,
           1,
           0,
           1,
           0,
           0,
           1,
           1,
           0,
           1,
           1,
           1,
           1,
           1,
           1,
           1,
           1,
           1,
           0,
           0,
           0,
           1,
           1,
           1,
           0,
           1,
           1,
           1,
           1,
           1,
           1,
           0,
           1,
           1,
           1,
           1,
           1,
           1,
           1,
           1,
           1,
           1,
           1,
           0
          ]
         },
         "mode": "markers",
         "type": "scatter",
         "x": [
          14,
          15,
          16,
          17,
          18,
          19,
          20,
          21,
          22,
          23,
          24,
          25,
          26,
          27,
          28,
          29,
          30,
          31,
          32,
          33,
          34,
          35,
          36,
          37,
          38,
          39,
          40,
          41,
          42,
          43,
          44,
          45,
          46,
          47,
          48,
          49,
          50,
          51,
          52,
          53,
          54,
          55,
          56,
          57,
          58,
          59,
          60,
          61,
          62,
          63,
          64,
          65,
          66,
          67,
          68,
          69,
          70,
          71,
          72,
          73,
          74,
          75,
          76,
          77,
          78,
          79,
          80,
          81,
          82,
          83,
          84,
          85,
          86,
          87,
          88,
          89,
          90,
          91,
          92,
          93,
          94,
          95,
          96,
          97,
          98,
          99,
          100,
          101,
          102,
          103
         ],
         "y": [
          66.42857142857143,
          70.14285714285714,
          67.77777777777777,
          66.33333333333333,
          68.14285714285714,
          64.375,
          65.55555555555556,
          65.0909090909091,
          61.5,
          60.5,
          68.25,
          68.61538461538461,
          65.11111111111111,
          65.7,
          68.2,
          69.22222222222223,
          71.85714285714286,
          69.375,
          67.44444444444444,
          68,
          62,
          50,
          71,
          66.3,
          67.72727272727273,
          71.33333333333333,
          70,
          70,
          62.36363636363637,
          63.75,
          63,
          60.25,
          62.3,
          62.75,
          59.333333333333336,
          69.75,
          71.81818181818181,
          60.6,
          68.55555555555556,
          67.77777777777777,
          70,
          64.875,
          67.28571428571429,
          64.55555555555556,
          66.44444444444444,
          64.7,
          60.375,
          68.42857142857143,
          67.5,
          66.8,
          66.5,
          66.16666666666667,
          68.33333333333333,
          70.57142857142857,
          70.125,
          71.66666666666667,
          66.6,
          68.16666666666667,
          61.5,
          50,
          67.16666666666667,
          69.1,
          66,
          64.25,
          63.66666666666666,
          63.55555555555556,
          64.11111111111111,
          65,
          57.625,
          59.77777777777778,
          59.375,
          63.875,
          60.25,
          65.42857142857143,
          67.55555555555556,
          68.85714285714286,
          67.25,
          66.85714285714286,
          64.83333333333333,
          62.4,
          66.57142857142857,
          64.66666666666667,
          57.6,
          70.28571428571429,
          66.125,
          69.875,
          67.27272727272727,
          63.77777777777778,
          61.375,
          60.66666666666666
         ]
        }
       ],
       "layout": {
        "legend": {
         "tracegroupgap": 0
        },
        "margin": {
         "t": 60
        },
        "template": {
         "data": {
          "bar": [
           {
            "error_x": {
             "color": "#f2f5fa"
            },
            "error_y": {
             "color": "#f2f5fa"
            },
            "marker": {
             "line": {
              "color": "rgb(17,17,17)",
              "width": 0.5
             }
            },
            "type": "bar"
           }
          ],
          "barpolar": [
           {
            "marker": {
             "line": {
              "color": "rgb(17,17,17)",
              "width": 0.5
             }
            },
            "type": "barpolar"
           }
          ],
          "carpet": [
           {
            "aaxis": {
             "endlinecolor": "#A2B1C6",
             "gridcolor": "#506784",
             "linecolor": "#506784",
             "minorgridcolor": "#506784",
             "startlinecolor": "#A2B1C6"
            },
            "baxis": {
             "endlinecolor": "#A2B1C6",
             "gridcolor": "#506784",
             "linecolor": "#506784",
             "minorgridcolor": "#506784",
             "startlinecolor": "#A2B1C6"
            },
            "type": "carpet"
           }
          ],
          "choropleth": [
           {
            "colorbar": {
             "outlinewidth": 0,
             "ticks": ""
            },
            "type": "choropleth"
           }
          ],
          "contour": [
           {
            "colorbar": {
             "outlinewidth": 0,
             "ticks": ""
            },
            "colorscale": [
             [
              0,
              "#0d0887"
             ],
             [
              0.1111111111111111,
              "#46039f"
             ],
             [
              0.2222222222222222,
              "#7201a8"
             ],
             [
              0.3333333333333333,
              "#9c179e"
             ],
             [
              0.4444444444444444,
              "#bd3786"
             ],
             [
              0.5555555555555556,
              "#d8576b"
             ],
             [
              0.6666666666666666,
              "#ed7953"
             ],
             [
              0.7777777777777778,
              "#fb9f3a"
             ],
             [
              0.8888888888888888,
              "#fdca26"
             ],
             [
              1,
              "#f0f921"
             ]
            ],
            "type": "contour"
           }
          ],
          "contourcarpet": [
           {
            "colorbar": {
             "outlinewidth": 0,
             "ticks": ""
            },
            "type": "contourcarpet"
           }
          ],
          "heatmap": [
           {
            "colorbar": {
             "outlinewidth": 0,
             "ticks": ""
            },
            "colorscale": [
             [
              0,
              "#0d0887"
             ],
             [
              0.1111111111111111,
              "#46039f"
             ],
             [
              0.2222222222222222,
              "#7201a8"
             ],
             [
              0.3333333333333333,
              "#9c179e"
             ],
             [
              0.4444444444444444,
              "#bd3786"
             ],
             [
              0.5555555555555556,
              "#d8576b"
             ],
             [
              0.6666666666666666,
              "#ed7953"
             ],
             [
              0.7777777777777778,
              "#fb9f3a"
             ],
             [
              0.8888888888888888,
              "#fdca26"
             ],
             [
              1,
              "#f0f921"
             ]
            ],
            "type": "heatmap"
           }
          ],
          "heatmapgl": [
           {
            "colorbar": {
             "outlinewidth": 0,
             "ticks": ""
            },
            "colorscale": [
             [
              0,
              "#0d0887"
             ],
             [
              0.1111111111111111,
              "#46039f"
             ],
             [
              0.2222222222222222,
              "#7201a8"
             ],
             [
              0.3333333333333333,
              "#9c179e"
             ],
             [
              0.4444444444444444,
              "#bd3786"
             ],
             [
              0.5555555555555556,
              "#d8576b"
             ],
             [
              0.6666666666666666,
              "#ed7953"
             ],
             [
              0.7777777777777778,
              "#fb9f3a"
             ],
             [
              0.8888888888888888,
              "#fdca26"
             ],
             [
              1,
              "#f0f921"
             ]
            ],
            "type": "heatmapgl"
           }
          ],
          "histogram": [
           {
            "marker": {
             "colorbar": {
              "outlinewidth": 0,
              "ticks": ""
             }
            },
            "type": "histogram"
           }
          ],
          "histogram2d": [
           {
            "colorbar": {
             "outlinewidth": 0,
             "ticks": ""
            },
            "colorscale": [
             [
              0,
              "#0d0887"
             ],
             [
              0.1111111111111111,
              "#46039f"
             ],
             [
              0.2222222222222222,
              "#7201a8"
             ],
             [
              0.3333333333333333,
              "#9c179e"
             ],
             [
              0.4444444444444444,
              "#bd3786"
             ],
             [
              0.5555555555555556,
              "#d8576b"
             ],
             [
              0.6666666666666666,
              "#ed7953"
             ],
             [
              0.7777777777777778,
              "#fb9f3a"
             ],
             [
              0.8888888888888888,
              "#fdca26"
             ],
             [
              1,
              "#f0f921"
             ]
            ],
            "type": "histogram2d"
           }
          ],
          "histogram2dcontour": [
           {
            "colorbar": {
             "outlinewidth": 0,
             "ticks": ""
            },
            "colorscale": [
             [
              0,
              "#0d0887"
             ],
             [
              0.1111111111111111,
              "#46039f"
             ],
             [
              0.2222222222222222,
              "#7201a8"
             ],
             [
              0.3333333333333333,
              "#9c179e"
             ],
             [
              0.4444444444444444,
              "#bd3786"
             ],
             [
              0.5555555555555556,
              "#d8576b"
             ],
             [
              0.6666666666666666,
              "#ed7953"
             ],
             [
              0.7777777777777778,
              "#fb9f3a"
             ],
             [
              0.8888888888888888,
              "#fdca26"
             ],
             [
              1,
              "#f0f921"
             ]
            ],
            "type": "histogram2dcontour"
           }
          ],
          "mesh3d": [
           {
            "colorbar": {
             "outlinewidth": 0,
             "ticks": ""
            },
            "type": "mesh3d"
           }
          ],
          "parcoords": [
           {
            "line": {
             "colorbar": {
              "outlinewidth": 0,
              "ticks": ""
             }
            },
            "type": "parcoords"
           }
          ],
          "pie": [
           {
            "automargin": true,
            "type": "pie"
           }
          ],
          "scatter": [
           {
            "marker": {
             "line": {
              "color": "#283442"
             }
            },
            "type": "scatter"
           }
          ],
          "scatter3d": [
           {
            "line": {
             "colorbar": {
              "outlinewidth": 0,
              "ticks": ""
             }
            },
            "marker": {
             "colorbar": {
              "outlinewidth": 0,
              "ticks": ""
             }
            },
            "type": "scatter3d"
           }
          ],
          "scattercarpet": [
           {
            "marker": {
             "colorbar": {
              "outlinewidth": 0,
              "ticks": ""
             }
            },
            "type": "scattercarpet"
           }
          ],
          "scattergeo": [
           {
            "marker": {
             "colorbar": {
              "outlinewidth": 0,
              "ticks": ""
             }
            },
            "type": "scattergeo"
           }
          ],
          "scattergl": [
           {
            "marker": {
             "line": {
              "color": "#283442"
             }
            },
            "type": "scattergl"
           }
          ],
          "scattermapbox": [
           {
            "marker": {
             "colorbar": {
              "outlinewidth": 0,
              "ticks": ""
             }
            },
            "type": "scattermapbox"
           }
          ],
          "scatterpolar": [
           {
            "marker": {
             "colorbar": {
              "outlinewidth": 0,
              "ticks": ""
             }
            },
            "type": "scatterpolar"
           }
          ],
          "scatterpolargl": [
           {
            "marker": {
             "colorbar": {
              "outlinewidth": 0,
              "ticks": ""
             }
            },
            "type": "scatterpolargl"
           }
          ],
          "scatterternary": [
           {
            "marker": {
             "colorbar": {
              "outlinewidth": 0,
              "ticks": ""
             }
            },
            "type": "scatterternary"
           }
          ],
          "surface": [
           {
            "colorbar": {
             "outlinewidth": 0,
             "ticks": ""
            },
            "colorscale": [
             [
              0,
              "#0d0887"
             ],
             [
              0.1111111111111111,
              "#46039f"
             ],
             [
              0.2222222222222222,
              "#7201a8"
             ],
             [
              0.3333333333333333,
              "#9c179e"
             ],
             [
              0.4444444444444444,
              "#bd3786"
             ],
             [
              0.5555555555555556,
              "#d8576b"
             ],
             [
              0.6666666666666666,
              "#ed7953"
             ],
             [
              0.7777777777777778,
              "#fb9f3a"
             ],
             [
              0.8888888888888888,
              "#fdca26"
             ],
             [
              1,
              "#f0f921"
             ]
            ],
            "type": "surface"
           }
          ],
          "table": [
           {
            "cells": {
             "fill": {
              "color": "#506784"
             },
             "line": {
              "color": "rgb(17,17,17)"
             }
            },
            "header": {
             "fill": {
              "color": "#2a3f5f"
             },
             "line": {
              "color": "rgb(17,17,17)"
             }
            },
            "type": "table"
           }
          ]
         },
         "layout": {
          "annotationdefaults": {
           "arrowcolor": "#f2f5fa",
           "arrowhead": 0,
           "arrowwidth": 1
          },
          "autotypenumbers": "strict",
          "coloraxis": {
           "colorbar": {
            "outlinewidth": 0,
            "ticks": ""
           }
          },
          "colorscale": {
           "diverging": [
            [
             0,
             "#8e0152"
            ],
            [
             0.1,
             "#c51b7d"
            ],
            [
             0.2,
             "#de77ae"
            ],
            [
             0.3,
             "#f1b6da"
            ],
            [
             0.4,
             "#fde0ef"
            ],
            [
             0.5,
             "#f7f7f7"
            ],
            [
             0.6,
             "#e6f5d0"
            ],
            [
             0.7,
             "#b8e186"
            ],
            [
             0.8,
             "#7fbc41"
            ],
            [
             0.9,
             "#4d9221"
            ],
            [
             1,
             "#276419"
            ]
           ],
           "sequential": [
            [
             0,
             "#0d0887"
            ],
            [
             0.1111111111111111,
             "#46039f"
            ],
            [
             0.2222222222222222,
             "#7201a8"
            ],
            [
             0.3333333333333333,
             "#9c179e"
            ],
            [
             0.4444444444444444,
             "#bd3786"
            ],
            [
             0.5555555555555556,
             "#d8576b"
            ],
            [
             0.6666666666666666,
             "#ed7953"
            ],
            [
             0.7777777777777778,
             "#fb9f3a"
            ],
            [
             0.8888888888888888,
             "#fdca26"
            ],
            [
             1,
             "#f0f921"
            ]
           ],
           "sequentialminus": [
            [
             0,
             "#0d0887"
            ],
            [
             0.1111111111111111,
             "#46039f"
            ],
            [
             0.2222222222222222,
             "#7201a8"
            ],
            [
             0.3333333333333333,
             "#9c179e"
            ],
            [
             0.4444444444444444,
             "#bd3786"
            ],
            [
             0.5555555555555556,
             "#d8576b"
            ],
            [
             0.6666666666666666,
             "#ed7953"
            ],
            [
             0.7777777777777778,
             "#fb9f3a"
            ],
            [
             0.8888888888888888,
             "#fdca26"
            ],
            [
             1,
             "#f0f921"
            ]
           ]
          },
          "colorway": [
           "#636efa",
           "#EF553B",
           "#00cc96",
           "#ab63fa",
           "#FFA15A",
           "#19d3f3",
           "#FF6692",
           "#B6E880",
           "#FF97FF",
           "#FECB52"
          ],
          "font": {
           "color": "#f2f5fa"
          },
          "geo": {
           "bgcolor": "rgb(17,17,17)",
           "lakecolor": "rgb(17,17,17)",
           "landcolor": "rgb(17,17,17)",
           "showlakes": true,
           "showland": true,
           "subunitcolor": "#506784"
          },
          "hoverlabel": {
           "align": "left"
          },
          "hovermode": "closest",
          "mapbox": {
           "style": "dark"
          },
          "paper_bgcolor": "rgb(17,17,17)",
          "plot_bgcolor": "rgb(17,17,17)",
          "polar": {
           "angularaxis": {
            "gridcolor": "#506784",
            "linecolor": "#506784",
            "ticks": ""
           },
           "bgcolor": "rgb(17,17,17)",
           "radialaxis": {
            "gridcolor": "#506784",
            "linecolor": "#506784",
            "ticks": ""
           }
          },
          "scene": {
           "xaxis": {
            "backgroundcolor": "rgb(17,17,17)",
            "gridcolor": "#506784",
            "gridwidth": 2,
            "linecolor": "#506784",
            "showbackground": true,
            "ticks": "",
            "zerolinecolor": "#C8D4E3"
           },
           "yaxis": {
            "backgroundcolor": "rgb(17,17,17)",
            "gridcolor": "#506784",
            "gridwidth": 2,
            "linecolor": "#506784",
            "showbackground": true,
            "ticks": "",
            "zerolinecolor": "#C8D4E3"
           },
           "zaxis": {
            "backgroundcolor": "rgb(17,17,17)",
            "gridcolor": "#506784",
            "gridwidth": 2,
            "linecolor": "#506784",
            "showbackground": true,
            "ticks": "",
            "zerolinecolor": "#C8D4E3"
           }
          },
          "shapedefaults": {
           "line": {
            "color": "#f2f5fa"
           }
          },
          "sliderdefaults": {
           "bgcolor": "#C8D4E3",
           "bordercolor": "rgb(17,17,17)",
           "borderwidth": 1,
           "tickwidth": 0
          },
          "ternary": {
           "aaxis": {
            "gridcolor": "#506784",
            "linecolor": "#506784",
            "ticks": ""
           },
           "baxis": {
            "gridcolor": "#506784",
            "linecolor": "#506784",
            "ticks": ""
           },
           "bgcolor": "rgb(17,17,17)",
           "caxis": {
            "gridcolor": "#506784",
            "linecolor": "#506784",
            "ticks": ""
           }
          },
          "title": {
           "x": 0.05
          },
          "updatemenudefaults": {
           "bgcolor": "#506784",
           "borderwidth": 0
          },
          "xaxis": {
           "automargin": true,
           "gridcolor": "#283442",
           "linecolor": "#506784",
           "ticks": "",
           "title": {
            "standoff": 15
           },
           "zerolinecolor": "#283442",
           "zerolinewidth": 2
          },
          "yaxis": {
           "automargin": true,
           "gridcolor": "#283442",
           "linecolor": "#506784",
           "ticks": "",
           "title": {
            "standoff": 15
           },
           "zerolinecolor": "#283442",
           "zerolinewidth": 2
          }
         }
        },
        "xaxis": {
         "anchor": "y",
         "domain": [
          0,
          1
         ],
         "title": {
          "text": "t"
         }
        },
        "yaxis": {
         "anchor": "x",
         "domain": [
          0,
          1
         ],
         "title": {
          "text": "x"
         }
        }
       }
      },
      "text/html": [
       "<div>                            <div id=\"1a9033de-cc41-408f-8a32-674af38aeb6a\" class=\"plotly-graph-div\" style=\"height:525px; width:100%;\"></div>            <script type=\"text/javascript\">                require([\"plotly\"], function(Plotly) {                    window.PLOTLYENV=window.PLOTLYENV || {};                                    if (document.getElementById(\"1a9033de-cc41-408f-8a32-674af38aeb6a\")) {                    Plotly.newPlot(                        \"1a9033de-cc41-408f-8a32-674af38aeb6a\",                        [{\"hovertemplate\": \"t=%{x}<br>x=%{y}<extra></extra>\", \"legendgroup\": \"\", \"line\": {\"color\": \"#636efa\", \"dash\": \"solid\"}, \"mode\": \"lines\", \"name\": \"\", \"orientation\": \"v\", \"showlegend\": false, \"type\": \"scatter\", \"x\": [14, 15, 16, 17, 18, 19, 20, 21, 22, 23, 24, 25, 26, 27, 28, 29, 30, 31, 32, 33, 34, 35, 36, 37, 38, 39, 40, 41, 42, 43, 44, 45, 46, 47, 48, 49, 50, 51, 52, 53, 54, 55, 56, 57, 58, 59, 60, 61, 62, 63, 64, 65, 66, 67, 68, 69, 70, 71, 72, 73, 74, 75, 76, 77, 78, 79, 80, 81, 82, 83, 84, 85, 86, 87, 88, 89, 90, 91, 92, 93, 94, 95, 96, 97, 98, 99, 100, 101, 102, 103], \"xaxis\": \"x\", \"y\": [66.42857142857143, 70.14285714285714, 67.77777777777777, 66.33333333333333, 68.14285714285714, 64.375, 65.55555555555556, 65.0909090909091, 61.5, 60.5, 68.25, 68.61538461538461, 65.11111111111111, 65.7, 68.2, 69.22222222222223, 71.85714285714286, 69.375, 67.44444444444444, 68.0, 62.0, 50.0, 71.0, 66.3, 67.72727272727273, 71.33333333333333, 70.0, 70.0, 62.36363636363637, 63.75, 63.0, 60.25, 62.3, 62.75, 59.333333333333336, 69.75, 71.81818181818181, 60.6, 68.55555555555556, 67.77777777777777, 70.0, 64.875, 67.28571428571429, 64.55555555555556, 66.44444444444444, 64.7, 60.375, 68.42857142857143, 67.5, 66.8, 66.5, 66.16666666666667, 68.33333333333333, 70.57142857142857, 70.125, 71.66666666666667, 66.6, 68.16666666666667, 61.5, 50.0, 67.16666666666667, 69.1, 66.0, 64.25, 63.66666666666666, 63.55555555555556, 64.11111111111111, 65.0, 57.625, 59.77777777777778, 59.375, 63.875, 60.25, 65.42857142857143, 67.55555555555556, 68.85714285714286, 67.25, 66.85714285714286, 64.83333333333333, 62.4, 66.57142857142857, 64.66666666666667, 57.6, 70.28571428571429, 66.125, 69.875, 67.27272727272727, 63.77777777777778, 61.375, 60.66666666666666], \"yaxis\": \"y\"}, {\"marker\": {\"color\": [0.0, 1.0, 1.0, 1.0, 1.0, 1.0, 1.0, 0.0, 1.0, 0.0, 1.0, 0.0, 1.0, 0.0, 1.0, 1.0, 1.0, 1.0, 1.0, 0.0, 1.0, 1.0, 1.0, 1.0, 1.0, 1.0, 1.0, 0.0, 1.0, 1.0, 0.0, 1.0, 1.0, 0.0, 1.0, 1.0, 1.0, 1.0, 1.0, 0.0, 1.0, 1.0, 1.0, 1.0, 1.0, 1.0, 1.0, 1.0, 0.0, 1.0, 0.0, 0.0, 1.0, 1.0, 0.0, 1.0, 1.0, 1.0, 1.0, 1.0, 1.0, 1.0, 1.0, 1.0, 0.0, 0.0, 0.0, 1.0, 1.0, 1.0, 0.0, 1.0, 1.0, 1.0, 1.0, 1.0, 1.0, 0.0, 1.0, 1.0, 1.0, 1.0, 1.0, 1.0, 1.0, 1.0, 1.0, 1.0, 1.0, 0.0]}, \"mode\": \"markers\", \"type\": \"scatter\", \"x\": [14, 15, 16, 17, 18, 19, 20, 21, 22, 23, 24, 25, 26, 27, 28, 29, 30, 31, 32, 33, 34, 35, 36, 37, 38, 39, 40, 41, 42, 43, 44, 45, 46, 47, 48, 49, 50, 51, 52, 53, 54, 55, 56, 57, 58, 59, 60, 61, 62, 63, 64, 65, 66, 67, 68, 69, 70, 71, 72, 73, 74, 75, 76, 77, 78, 79, 80, 81, 82, 83, 84, 85, 86, 87, 88, 89, 90, 91, 92, 93, 94, 95, 96, 97, 98, 99, 100, 101, 102, 103], \"y\": [66.42857142857143, 70.14285714285714, 67.77777777777777, 66.33333333333333, 68.14285714285714, 64.375, 65.55555555555556, 65.0909090909091, 61.5, 60.5, 68.25, 68.61538461538461, 65.11111111111111, 65.7, 68.2, 69.22222222222223, 71.85714285714286, 69.375, 67.44444444444444, 68.0, 62.0, 50.0, 71.0, 66.3, 67.72727272727273, 71.33333333333333, 70.0, 70.0, 62.36363636363637, 63.75, 63.0, 60.25, 62.3, 62.75, 59.333333333333336, 69.75, 71.81818181818181, 60.6, 68.55555555555556, 67.77777777777777, 70.0, 64.875, 67.28571428571429, 64.55555555555556, 66.44444444444444, 64.7, 60.375, 68.42857142857143, 67.5, 66.8, 66.5, 66.16666666666667, 68.33333333333333, 70.57142857142857, 70.125, 71.66666666666667, 66.6, 68.16666666666667, 61.5, 50.0, 67.16666666666667, 69.1, 66.0, 64.25, 63.66666666666666, 63.55555555555556, 64.11111111111111, 65.0, 57.625, 59.77777777777778, 59.375, 63.875, 60.25, 65.42857142857143, 67.55555555555556, 68.85714285714286, 67.25, 66.85714285714286, 64.83333333333333, 62.4, 66.57142857142857, 64.66666666666667, 57.6, 70.28571428571429, 66.125, 69.875, 67.27272727272727, 63.77777777777778, 61.375, 60.66666666666666]}],                        {\"legend\": {\"tracegroupgap\": 0}, \"margin\": {\"t\": 60}, \"template\": {\"data\": {\"bar\": [{\"error_x\": {\"color\": \"#f2f5fa\"}, \"error_y\": {\"color\": \"#f2f5fa\"}, \"marker\": {\"line\": {\"color\": \"rgb(17,17,17)\", \"width\": 0.5}}, \"type\": \"bar\"}], \"barpolar\": [{\"marker\": {\"line\": {\"color\": \"rgb(17,17,17)\", \"width\": 0.5}}, \"type\": \"barpolar\"}], \"carpet\": [{\"aaxis\": {\"endlinecolor\": \"#A2B1C6\", \"gridcolor\": \"#506784\", \"linecolor\": \"#506784\", \"minorgridcolor\": \"#506784\", \"startlinecolor\": \"#A2B1C6\"}, \"baxis\": {\"endlinecolor\": \"#A2B1C6\", \"gridcolor\": \"#506784\", \"linecolor\": \"#506784\", \"minorgridcolor\": \"#506784\", \"startlinecolor\": \"#A2B1C6\"}, \"type\": \"carpet\"}], \"choropleth\": [{\"colorbar\": {\"outlinewidth\": 0, \"ticks\": \"\"}, \"type\": \"choropleth\"}], \"contour\": [{\"colorbar\": {\"outlinewidth\": 0, \"ticks\": \"\"}, \"colorscale\": [[0.0, \"#0d0887\"], [0.1111111111111111, \"#46039f\"], [0.2222222222222222, \"#7201a8\"], [0.3333333333333333, \"#9c179e\"], [0.4444444444444444, \"#bd3786\"], [0.5555555555555556, \"#d8576b\"], [0.6666666666666666, \"#ed7953\"], [0.7777777777777778, \"#fb9f3a\"], [0.8888888888888888, \"#fdca26\"], [1.0, \"#f0f921\"]], \"type\": \"contour\"}], \"contourcarpet\": [{\"colorbar\": {\"outlinewidth\": 0, \"ticks\": \"\"}, \"type\": \"contourcarpet\"}], \"heatmap\": [{\"colorbar\": {\"outlinewidth\": 0, \"ticks\": \"\"}, \"colorscale\": [[0.0, \"#0d0887\"], [0.1111111111111111, \"#46039f\"], [0.2222222222222222, \"#7201a8\"], [0.3333333333333333, \"#9c179e\"], [0.4444444444444444, \"#bd3786\"], [0.5555555555555556, \"#d8576b\"], [0.6666666666666666, \"#ed7953\"], [0.7777777777777778, \"#fb9f3a\"], [0.8888888888888888, \"#fdca26\"], [1.0, \"#f0f921\"]], \"type\": \"heatmap\"}], \"heatmapgl\": [{\"colorbar\": {\"outlinewidth\": 0, \"ticks\": \"\"}, \"colorscale\": [[0.0, \"#0d0887\"], [0.1111111111111111, \"#46039f\"], [0.2222222222222222, \"#7201a8\"], [0.3333333333333333, \"#9c179e\"], [0.4444444444444444, \"#bd3786\"], [0.5555555555555556, \"#d8576b\"], [0.6666666666666666, \"#ed7953\"], [0.7777777777777778, \"#fb9f3a\"], [0.8888888888888888, \"#fdca26\"], [1.0, \"#f0f921\"]], \"type\": \"heatmapgl\"}], \"histogram\": [{\"marker\": {\"colorbar\": {\"outlinewidth\": 0, \"ticks\": \"\"}}, \"type\": \"histogram\"}], \"histogram2d\": [{\"colorbar\": {\"outlinewidth\": 0, \"ticks\": \"\"}, \"colorscale\": [[0.0, \"#0d0887\"], [0.1111111111111111, \"#46039f\"], [0.2222222222222222, \"#7201a8\"], [0.3333333333333333, \"#9c179e\"], [0.4444444444444444, \"#bd3786\"], [0.5555555555555556, \"#d8576b\"], [0.6666666666666666, \"#ed7953\"], [0.7777777777777778, \"#fb9f3a\"], [0.8888888888888888, \"#fdca26\"], [1.0, \"#f0f921\"]], \"type\": \"histogram2d\"}], \"histogram2dcontour\": [{\"colorbar\": {\"outlinewidth\": 0, \"ticks\": \"\"}, \"colorscale\": [[0.0, \"#0d0887\"], [0.1111111111111111, \"#46039f\"], [0.2222222222222222, \"#7201a8\"], [0.3333333333333333, \"#9c179e\"], [0.4444444444444444, \"#bd3786\"], [0.5555555555555556, \"#d8576b\"], [0.6666666666666666, \"#ed7953\"], [0.7777777777777778, \"#fb9f3a\"], [0.8888888888888888, \"#fdca26\"], [1.0, \"#f0f921\"]], \"type\": \"histogram2dcontour\"}], \"mesh3d\": [{\"colorbar\": {\"outlinewidth\": 0, \"ticks\": \"\"}, \"type\": \"mesh3d\"}], \"parcoords\": [{\"line\": {\"colorbar\": {\"outlinewidth\": 0, \"ticks\": \"\"}}, \"type\": \"parcoords\"}], \"pie\": [{\"automargin\": true, \"type\": \"pie\"}], \"scatter\": [{\"marker\": {\"line\": {\"color\": \"#283442\"}}, \"type\": \"scatter\"}], \"scatter3d\": [{\"line\": {\"colorbar\": {\"outlinewidth\": 0, \"ticks\": \"\"}}, \"marker\": {\"colorbar\": {\"outlinewidth\": 0, \"ticks\": \"\"}}, \"type\": \"scatter3d\"}], \"scattercarpet\": [{\"marker\": {\"colorbar\": {\"outlinewidth\": 0, \"ticks\": \"\"}}, \"type\": \"scattercarpet\"}], \"scattergeo\": [{\"marker\": {\"colorbar\": {\"outlinewidth\": 0, \"ticks\": \"\"}}, \"type\": \"scattergeo\"}], \"scattergl\": [{\"marker\": {\"line\": {\"color\": \"#283442\"}}, \"type\": \"scattergl\"}], \"scattermapbox\": [{\"marker\": {\"colorbar\": {\"outlinewidth\": 0, \"ticks\": \"\"}}, \"type\": \"scattermapbox\"}], \"scatterpolar\": [{\"marker\": {\"colorbar\": {\"outlinewidth\": 0, \"ticks\": \"\"}}, \"type\": \"scatterpolar\"}], \"scatterpolargl\": [{\"marker\": {\"colorbar\": {\"outlinewidth\": 0, \"ticks\": \"\"}}, \"type\": \"scatterpolargl\"}], \"scatterternary\": [{\"marker\": {\"colorbar\": {\"outlinewidth\": 0, \"ticks\": \"\"}}, \"type\": \"scatterternary\"}], \"surface\": [{\"colorbar\": {\"outlinewidth\": 0, \"ticks\": \"\"}, \"colorscale\": [[0.0, \"#0d0887\"], [0.1111111111111111, \"#46039f\"], [0.2222222222222222, \"#7201a8\"], [0.3333333333333333, \"#9c179e\"], [0.4444444444444444, \"#bd3786\"], [0.5555555555555556, \"#d8576b\"], [0.6666666666666666, \"#ed7953\"], [0.7777777777777778, \"#fb9f3a\"], [0.8888888888888888, \"#fdca26\"], [1.0, \"#f0f921\"]], \"type\": \"surface\"}], \"table\": [{\"cells\": {\"fill\": {\"color\": \"#506784\"}, \"line\": {\"color\": \"rgb(17,17,17)\"}}, \"header\": {\"fill\": {\"color\": \"#2a3f5f\"}, \"line\": {\"color\": \"rgb(17,17,17)\"}}, \"type\": \"table\"}]}, \"layout\": {\"annotationdefaults\": {\"arrowcolor\": \"#f2f5fa\", \"arrowhead\": 0, \"arrowwidth\": 1}, \"autotypenumbers\": \"strict\", \"coloraxis\": {\"colorbar\": {\"outlinewidth\": 0, \"ticks\": \"\"}}, \"colorscale\": {\"diverging\": [[0, \"#8e0152\"], [0.1, \"#c51b7d\"], [0.2, \"#de77ae\"], [0.3, \"#f1b6da\"], [0.4, \"#fde0ef\"], [0.5, \"#f7f7f7\"], [0.6, \"#e6f5d0\"], [0.7, \"#b8e186\"], [0.8, \"#7fbc41\"], [0.9, \"#4d9221\"], [1, \"#276419\"]], \"sequential\": [[0.0, \"#0d0887\"], [0.1111111111111111, \"#46039f\"], [0.2222222222222222, \"#7201a8\"], [0.3333333333333333, \"#9c179e\"], [0.4444444444444444, \"#bd3786\"], [0.5555555555555556, \"#d8576b\"], [0.6666666666666666, \"#ed7953\"], [0.7777777777777778, \"#fb9f3a\"], [0.8888888888888888, \"#fdca26\"], [1.0, \"#f0f921\"]], \"sequentialminus\": [[0.0, \"#0d0887\"], [0.1111111111111111, \"#46039f\"], [0.2222222222222222, \"#7201a8\"], [0.3333333333333333, \"#9c179e\"], [0.4444444444444444, \"#bd3786\"], [0.5555555555555556, \"#d8576b\"], [0.6666666666666666, \"#ed7953\"], [0.7777777777777778, \"#fb9f3a\"], [0.8888888888888888, \"#fdca26\"], [1.0, \"#f0f921\"]]}, \"colorway\": [\"#636efa\", \"#EF553B\", \"#00cc96\", \"#ab63fa\", \"#FFA15A\", \"#19d3f3\", \"#FF6692\", \"#B6E880\", \"#FF97FF\", \"#FECB52\"], \"font\": {\"color\": \"#f2f5fa\"}, \"geo\": {\"bgcolor\": \"rgb(17,17,17)\", \"lakecolor\": \"rgb(17,17,17)\", \"landcolor\": \"rgb(17,17,17)\", \"showlakes\": true, \"showland\": true, \"subunitcolor\": \"#506784\"}, \"hoverlabel\": {\"align\": \"left\"}, \"hovermode\": \"closest\", \"mapbox\": {\"style\": \"dark\"}, \"paper_bgcolor\": \"rgb(17,17,17)\", \"plot_bgcolor\": \"rgb(17,17,17)\", \"polar\": {\"angularaxis\": {\"gridcolor\": \"#506784\", \"linecolor\": \"#506784\", \"ticks\": \"\"}, \"bgcolor\": \"rgb(17,17,17)\", \"radialaxis\": {\"gridcolor\": \"#506784\", \"linecolor\": \"#506784\", \"ticks\": \"\"}}, \"scene\": {\"xaxis\": {\"backgroundcolor\": \"rgb(17,17,17)\", \"gridcolor\": \"#506784\", \"gridwidth\": 2, \"linecolor\": \"#506784\", \"showbackground\": true, \"ticks\": \"\", \"zerolinecolor\": \"#C8D4E3\"}, \"yaxis\": {\"backgroundcolor\": \"rgb(17,17,17)\", \"gridcolor\": \"#506784\", \"gridwidth\": 2, \"linecolor\": \"#506784\", \"showbackground\": true, \"ticks\": \"\", \"zerolinecolor\": \"#C8D4E3\"}, \"zaxis\": {\"backgroundcolor\": \"rgb(17,17,17)\", \"gridcolor\": \"#506784\", \"gridwidth\": 2, \"linecolor\": \"#506784\", \"showbackground\": true, \"ticks\": \"\", \"zerolinecolor\": \"#C8D4E3\"}}, \"shapedefaults\": {\"line\": {\"color\": \"#f2f5fa\"}}, \"sliderdefaults\": {\"bgcolor\": \"#C8D4E3\", \"bordercolor\": \"rgb(17,17,17)\", \"borderwidth\": 1, \"tickwidth\": 0}, \"ternary\": {\"aaxis\": {\"gridcolor\": \"#506784\", \"linecolor\": \"#506784\", \"ticks\": \"\"}, \"baxis\": {\"gridcolor\": \"#506784\", \"linecolor\": \"#506784\", \"ticks\": \"\"}, \"bgcolor\": \"rgb(17,17,17)\", \"caxis\": {\"gridcolor\": \"#506784\", \"linecolor\": \"#506784\", \"ticks\": \"\"}}, \"title\": {\"x\": 0.05}, \"updatemenudefaults\": {\"bgcolor\": \"#506784\", \"borderwidth\": 0}, \"xaxis\": {\"automargin\": true, \"gridcolor\": \"#283442\", \"linecolor\": \"#506784\", \"ticks\": \"\", \"title\": {\"standoff\": 15}, \"zerolinecolor\": \"#283442\", \"zerolinewidth\": 2}, \"yaxis\": {\"automargin\": true, \"gridcolor\": \"#283442\", \"linecolor\": \"#506784\", \"ticks\": \"\", \"title\": {\"standoff\": 15}, \"zerolinecolor\": \"#283442\", \"zerolinewidth\": 2}}}, \"xaxis\": {\"anchor\": \"y\", \"domain\": [0.0, 1.0], \"title\": {\"text\": \"t\"}}, \"yaxis\": {\"anchor\": \"x\", \"domain\": [0.0, 1.0], \"title\": {\"text\": \"x\"}}},                        {\"responsive\": true}                    ).then(function(){\n",
       "                            \n",
       "var gd = document.getElementById('1a9033de-cc41-408f-8a32-674af38aeb6a');\n",
       "var x = new MutationObserver(function (mutations, observer) {{\n",
       "        var display = window.getComputedStyle(gd).display;\n",
       "        if (!display || display === 'none') {{\n",
       "            console.log([gd, 'removed!']);\n",
       "            Plotly.purge(gd);\n",
       "            observer.disconnect();\n",
       "        }}\n",
       "}});\n",
       "\n",
       "// Listen for the removal of the full notebook cells\n",
       "var notebookContainer = gd.closest('#notebook-container');\n",
       "if (notebookContainer) {{\n",
       "    x.observe(notebookContainer, {childList: true});\n",
       "}}\n",
       "\n",
       "// Listen for the clearing of the current output cell\n",
       "var outputEl = gd.closest('.output');\n",
       "if (outputEl) {{\n",
       "    x.observe(outputEl, {childList: true});\n",
       "}}\n",
       "\n",
       "                        })                };                });            </script>        </div>"
      ]
     },
     "metadata": {},
     "output_type": "display_data"
    }
   ],
   "source": [
    "x = x_obs.flatten()\n",
    "\n",
    "\"\"\" Model setup \"\"\"\n",
    "\n",
    "### Online Bayesian linear regression with REG_L lags\n",
    "REG_L = 10 # use last 10 seconds\n",
    "\n",
    "\n",
    "\n",
    "### CUSUM parameters\n",
    "threshold = 1\n",
    "drift = 0\n",
    "gp, gn = np.zeros(x.size), np.zeros(x.size)\n",
    "ta, tai, taf = np.array([[], [], []], dtype=int)\n",
    "tap, tan = 0, 0\n",
    "amp = np.array([])\n",
    "\n",
    "\"\"\" Train sequentially \"\"\"\n",
    "# timerange = range(L, n-1) # data starts at 0 so start analysis at L for L lags\n",
    "timerange = range(L, L + 90)\n",
    "for i in timerange:\n",
    "    if (i % 10000 == 0): print(\"Training observation {} / {} ...\".format(i+1, n-1))\n",
    "    \n",
    "    # Bayesian regression\n",
    "    \n",
    "    # CUSUM on the (online) residuals\n",
    "    s = np.array(x[i]) - np.array(x[i-1])\n",
    "    gp[i] = gp[i-1] + s - drift  # cumulative sum for + change\n",
    "    gn[i] = gn[i-1] - s - drift  # cumulative sum for - change\n",
    "    if gp[i] < 0:\n",
    "        gp[i], tap = 0, i\n",
    "    if gn[i] < 0:\n",
    "        gn[i], tan = 0, i\n",
    "    if gp[i] > threshold or gn[i] > threshold:  # change detected!\n",
    "        ta = np.append(ta, i)    # alarm index\n",
    "        tai = np.append(tai, tap if gp[i] > threshold else tan)  # start\n",
    "        gp[i], gn[i] = 0, 0      # reset alarm\n",
    "    # Your modeling code here\n",
    "    \n",
    "\"\"\" Plot \"\"\"\n",
    "df_plt = pd.DataFrame({\n",
    "    \"t\": timerange,\n",
    "    \"x\": x[timerange]\n",
    "})\n",
    "df_plt = pd.merge(df_plt, pd.DataFrame({\"t\": ta, \"break\": 1}), on=\"t\", how=\"left\").fillna(0)\n",
    "fig = px.line(df_plt, x=\"t\", y=\"x\", template=\"plotly_dark\")\n",
    "fig.add_scatter(x=df_plt['t'], y=df_plt['x'], mode=\"markers\", marker_color=df_plt['break'])\n",
    "fig"
   ]
  },
  {
   "cell_type": "markdown",
   "metadata": {},
   "source": [
    "### Model 3: Bayesian CUSUM\n",
    "\n",
    "Directly adjusted.\n",
    "\n",
    "- http://www.prodsyse.com/Bayes-Adj%20Cusum2.pdf\n",
    "- https://cran.r-project.org/web/packages/spcadjust/vignettes/CUSUM_LinearRegression.html"
   ]
  },
  {
   "cell_type": "code",
   "execution_count": 248,
   "metadata": {
    "scrolled": true
   },
   "outputs": [
    {
     "ename": "Exception",
     "evalue": "",
     "output_type": "error",
     "traceback": [
      "\u001b[1;31m---------------------------------------------------------------------------\u001b[0m",
      "\u001b[1;31mException\u001b[0m                                 Traceback (most recent call last)",
      "\u001b[1;32m<ipython-input-248-3961d3e18935>\u001b[0m in \u001b[0;36m<module>\u001b[1;34m\u001b[0m\n\u001b[0;32m     46\u001b[0m     \u001b[0mY\u001b[0m\u001b[1;33m\u001b[0m\u001b[1;33m\u001b[0m\u001b[0m\n\u001b[0;32m     47\u001b[0m \u001b[1;33m\u001b[0m\u001b[0m\n\u001b[1;32m---> 48\u001b[1;33m     \u001b[1;32mraise\u001b[0m \u001b[0mException\u001b[0m\u001b[1;33m(\u001b[0m\u001b[1;33m)\u001b[0m\u001b[1;33m\u001b[0m\u001b[1;33m\u001b[0m\u001b[0m\n\u001b[0m\u001b[0;32m     49\u001b[0m \u001b[1;33m\u001b[0m\u001b[0m\n\u001b[0;32m     50\u001b[0m \u001b[1;34m\"\"\" Plot \"\"\"\u001b[0m\u001b[1;33m\u001b[0m\u001b[1;33m\u001b[0m\u001b[0m\n",
      "\u001b[1;31mException\u001b[0m: "
     ]
    }
   ],
   "source": [
    "\"\"\" Model setup \"\"\"\n",
    "import scipy as sc\n",
    "\n",
    "REG_L = 3\n",
    "\n",
    "#set up prior parameters\n",
    "mu_0 = np.zeros(REG_L)\n",
    "XtX = None\n",
    "Om_0_inv = None\n",
    "a_0 = 0.01\n",
    "b_0 = 0.01\n",
    "model_initialized = False\n",
    "\n",
    "\"\"\" Train sequentially \"\"\"\n",
    "# collect data\n",
    "Xall = []\n",
    "Yall = []\n",
    "timerange = range(REG_L, n-1) # data starts at 0 so start analysis at REG_L for REG_L lags\n",
    "for i in timerange:\n",
    "    if (i % 10000 == 0): print(\"Training observation {} / {} ...\".format(i+1, n-1))\n",
    "    x = np.array(x_obs[i])\n",
    "    xl = np.array(x_obs[(i-REG_L):i])\n",
    "    \n",
    "    # collect enough data to set up the unit information prior\n",
    "    if (i <= 100):\n",
    "        Xall.append(np.array(x_obs[(i-REG_L):i])) # X matrix is only lags\n",
    "        Yall.append(np.array(x_obs[i]))\n",
    "        continue\n",
    "    \n",
    "    if not model_initialized:\n",
    "        Y = np.concatenate(Yall)\n",
    "        X = np.concatenate(Xall, axis=1).T\n",
    "        Xt = X.T\n",
    "        XtX = Xt.dot(X) / n\n",
    "        Om_0_inv = XtX / n\n",
    "        #calculate posterior parameters\n",
    "        Om_n_inv = XtX + Om_0_inv\n",
    "        Om_n = sc.linalg.inv(Om_n_inv)\n",
    "        term1 = Om_0_inv.dot(mu_0)+X.T.dot(Y)\n",
    "        mu_n = Om_n.dot(term1)\n",
    "        a_n = a_0 + n/2\n",
    "        term2 = Y.T.dot(Y)+mu_0.dot(Om_0_inv.dot(mu_0))+mu_n.dot(Om_n_inv.dot(mu_n))\n",
    "        b_n = b_0 + term2/2\n",
    "    \n",
    "    # Now update for current data point\n",
    "    \n",
    "        \n",
    "    raise Exception()\n",
    "    \n",
    "\"\"\" Plot \"\"\"\n",
    "\n",
    "# Plot code here"
   ]
  },
  {
   "cell_type": "code",
   "execution_count": 247,
   "metadata": {},
   "outputs": [
    {
     "data": {
      "text/plain": [
       "array([[0.00000094, 0.00000094, 0.00000093],\n",
       "       [0.00000094, 0.00000094, 0.00000094],\n",
       "       [0.00000093, 0.00000094, 0.00000094]])"
      ]
     },
     "execution_count": 247,
     "metadata": {},
     "output_type": "execute_result"
    }
   ],
   "source": [
    "XtX / n"
   ]
  },
  {
   "cell_type": "code",
   "execution_count": null,
   "metadata": {},
   "outputs": [],
   "source": []
  },
  {
   "cell_type": "code",
   "execution_count": null,
   "metadata": {},
   "outputs": [],
   "source": []
  },
  {
   "cell_type": "code",
   "execution_count": null,
   "metadata": {},
   "outputs": [],
   "source": []
  },
  {
   "cell_type": "code",
   "execution_count": null,
   "metadata": {},
   "outputs": [],
   "source": []
  },
  {
   "cell_type": "code",
   "execution_count": null,
   "metadata": {},
   "outputs": [],
   "source": []
  },
  {
   "cell_type": "code",
   "execution_count": null,
   "metadata": {},
   "outputs": [],
   "source": []
  },
  {
   "cell_type": "code",
   "execution_count": null,
   "metadata": {},
   "outputs": [],
   "source": []
  },
  {
   "cell_type": "code",
   "execution_count": null,
   "metadata": {},
   "outputs": [],
   "source": [
    "\"\"\" Model setup \"\"\"\n",
    "\n",
    "# Parameters here\n",
    "\n",
    "\"\"\" Train sequentially \"\"\"\n",
    "timerange = range(L, n-1) # data starts at 0 so start analysis at L for L lags\n",
    "for i in timerange:\n",
    "    if (i % 10000 == 0): print(\"Training observation {} / {} ...\".format(i+1, n-1))\n",
    "    x = np.array(x_obs[i])\n",
    "    \n",
    "    # Your modeling code here\n",
    "    \n",
    "\"\"\" Plot \"\"\"\n",
    "\n",
    "# Plot code here"
   ]
  },
  {
   "cell_type": "markdown",
   "metadata": {},
   "source": [
    "# Presentation: stream and visualize music data with structural breaks\n",
    "\n",
    "Steam and visualize music (+audio) in realtime, and tag with detected structural breaks (w/information - e.g. this was a structural break in pitch, velocity etc.) from the above models.\n",
    "\n",
    "Note, the tagging itself will be on the 1-second level because we are training on the aggregated data with that granularity."
   ]
  },
  {
   "cell_type": "markdown",
   "metadata": {},
   "source": [
    "### (my notes)\n",
    "\n",
    "- Task 1 (detecting structural breaks) is unsupervised learning - tagging structural breaks. Task 2 may use supervised learning.\n",
    "- For Bayesian models, call R pkgs / methods from Python in order to save time. (No need to reinvent the wheel.)"
   ]
  },
  {
   "cell_type": "code",
   "execution_count": null,
   "metadata": {},
   "outputs": [],
   "source": []
  }
 ],
 "metadata": {
  "kernelspec": {
   "display_name": "Python 3",
   "language": "python",
   "name": "python3"
  },
  "language_info": {
   "codemirror_mode": {
    "name": "ipython",
    "version": 3
   },
   "file_extension": ".py",
   "mimetype": "text/x-python",
   "name": "python",
   "nbconvert_exporter": "python",
   "pygments_lexer": "ipython3",
   "version": "3.7.9"
  }
 },
 "nbformat": 4,
 "nbformat_minor": 4
}
